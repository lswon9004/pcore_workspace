{
 "cells": [
  {
   "cell_type": "code",
   "execution_count": 1,
   "metadata": {},
   "outputs": [],
   "source": [
    "from sklearn.datasets import load_breast_cancer\n",
    "from sklearn import tree\n",
    "import pydotplus"
   ]
  },
  {
   "cell_type": "code",
   "execution_count": 5,
   "metadata": {},
   "outputs": [
    {
     "name": "stdout",
     "output_type": "stream",
     "text": [
      "결정 트리의 정확률= 0.9824253075571178\n"
     ]
    }
   ],
   "source": [
    "wdbc=load_breast_cancer()\n",
    "\n",
    "decision_tree=tree.DecisionTreeClassifier(max_depth=4,random_state=1)\n",
    "dt=decision_tree.fit(wdbc.data,wdbc.target) # 결정 트리 학습\n",
    "\n",
    "res=dt.predict(wdbc.data)\n",
    "print('결정 트리의 정확률=',sum(res==wdbc.target)/len(res)) # 예측\n",
    "\n",
    "dot=tree.export_graphviz(dt,out_file=None,feature_names=wdbc.feature_names,class_names=wdbc.target_names,filled=True,node_ids=True,rounded=True)\n",
    "graph=pydotplus.graph_from_dot_data(dot)\n",
    "\n",
    "graph.write_png('tree.png') # 결정 트리를 위한 그림 저장\n",
    "\n",
    "x_test=wdbc.data[100:101]\n",
    "path=dt.decision_path(x_test)\n",
    "path_seq=path.toarray()[0]"
   ]
  },
  {
   "cell_type": "code",
   "execution_count": 6,
   "metadata": {},
   "outputs": [
    {
     "data": {
      "text/plain": [
       "True"
      ]
     },
     "execution_count": 6,
     "metadata": {},
     "output_type": "execute_result"
    }
   ],
   "source": [
    "for n,value in enumerate(path_seq):\n",
    "    node=graph.get_node(str(n))[0]\n",
    "    if value==0:\n",
    "        node.set_fillcolor('white')\n",
    "    else:\n",
    "        node.set_fillcolor('green') # 의사결정 경로를 green 색으로 표시\n",
    "\n",
    "graph.write_png('tree_with_path.png') # 의사결정 경로를 포함한 그림 저장"
   ]
  },
  {
   "cell_type": "code",
   "execution_count": null,
   "metadata": {},
   "outputs": [],
   "source": []
  }
 ],
 "metadata": {
  "kernelspec": {
   "display_name": "pcore",
   "language": "python",
   "name": "python3"
  },
  "language_info": {
   "codemirror_mode": {
    "name": "ipython",
    "version": 3
   },
   "file_extension": ".py",
   "mimetype": "text/x-python",
   "name": "python",
   "nbconvert_exporter": "python",
   "pygments_lexer": "ipython3",
   "version": "3.12.4"
  }
 },
 "nbformat": 4,
 "nbformat_minor": 2
}
