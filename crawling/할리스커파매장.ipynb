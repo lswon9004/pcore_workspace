{
 "cells": [
  {
   "cell_type": "code",
   "execution_count": 8,
   "metadata": {},
   "outputs": [],
   "source": [
    "import urllib.request\n",
    "from bs4 import BeautifulSoup as bs\n",
    "import pandas as pd\n",
    "from urllib import parse\n"
   ]
  },
  {
   "cell_type": "code",
   "execution_count": 12,
   "metadata": {},
   "outputs": [],
   "source": [
    "def hollys_store(result):\n",
    "    for page in range(1, 3):\n",
    "        Hollys_url = \"https://www.hollys.co.kr/store/korea/korStore2.do?pageNo=%d&sido=&gugun=&store=\"% page\n",
    "        \n",
    "        html = urllib.request.urlopen(Hollys_url)\n",
    "        soupHollys = bs(html, 'html.parser')\n",
    "        \n",
    "        tag_tbody = soupHollys.find(\"tbody\")\n",
    "        for store in tag_tbody.find_all('tr'):\n",
    "            store_td = store.find_all('td')\n",
    "            s_name = store_td[1].text\n",
    "            s_sido = store_td[0].string\n",
    "            s_address = store_td[3].string\n",
    "            s_phone = store_td[5].string\n",
    "            \n",
    "            result.append([s_name, s_sido, s_address, s_phone])\n",
    "            \n",
    "    return"
   ]
  },
  {
   "cell_type": "code",
   "execution_count": 10,
   "metadata": {},
   "outputs": [],
   "source": [
    "def main():\n",
    "    result = []\n",
    "    print(\"Hollys store crawling >>>>>>>>>>>>>>>>>>>>>>>>\")\n",
    "    hollys_store(result)\n",
    "    print(\">>>\")\n",
    "    hollys_df = pd.DataFrame(result, columns=('store', 'si-do-gu', 'address',' phone'))\n",
    "    hollys_df.to_csv('hollys2.csv', encoding='cp949', mode='w', index=True)"
   ]
  },
  {
   "cell_type": "code",
   "execution_count": 11,
   "metadata": {},
   "outputs": [
    {
     "name": "stdout",
     "output_type": "stream",
     "text": [
      "Hollys store crawling >>>>>>>>>>>>>>>>>>>>>>>>\n",
      ">>>\n"
     ]
    }
   ],
   "source": [
    "main()"
   ]
  },
  {
   "cell_type": "code",
   "execution_count": 5,
   "metadata": {},
   "outputs": [
    {
     "name": "stdout",
     "output_type": "stream",
     "text": [
      "Hollys store crawling >>>>>>>>>>>>>>>>>>>>>>>>\n",
      ">>>\n"
     ]
    }
   ],
   "source": [
    "if __name__ == '__main__':\n",
    "    main()"
   ]
  },
  {
   "cell_type": "code",
   "execution_count": null,
   "metadata": {},
   "outputs": [],
   "source": []
  }
 ],
 "metadata": {
  "kernelspec": {
   "display_name": "pcore",
   "language": "python",
   "name": "python3"
  },
  "language_info": {
   "codemirror_mode": {
    "name": "ipython",
    "version": 3
   },
   "file_extension": ".py",
   "mimetype": "text/x-python",
   "name": "python",
   "nbconvert_exporter": "python",
   "pygments_lexer": "ipython3",
   "version": "3.12.4"
  }
 },
 "nbformat": 4,
 "nbformat_minor": 2
}
