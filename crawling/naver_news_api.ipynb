{
 "cells": [
  {
   "cell_type": "code",
   "execution_count": 2,
   "metadata": {},
   "outputs": [],
   "source": [
    "import os\n",
    "import sys\n",
    "import json\n",
    "import urllib.request\n",
    "import datetime\n",
    "import time"
   ]
  },
  {
   "cell_type": "code",
   "execution_count": 3,
   "metadata": {},
   "outputs": [],
   "source": [
    "client_id = \"hysa_dpJm2ciS7VokKF5\"\n",
    "client_secret = \"e9D1Xq_F8o\""
   ]
  },
  {
   "cell_type": "code",
   "execution_count": 4,
   "metadata": {},
   "outputs": [],
   "source": [
    "def getRequestUrl(url):\n",
    "    request = urllib.request.Request(url)\n",
    "    request.add_header(\"X-Naver-Client-Id\",client_id)\n",
    "    request.add_header(\"X-Naver-Client-Secret\",client_secret)   \n",
    "    try:\n",
    "        response = urllib.request.urlopen(request)\n",
    "        if(response.getcode() == 200):\n",
    "            print('[%s] Url Request Success'%datetime.datetime.now())\n",
    "            return response.read().decode('utf-8')\n",
    "    except Exception as e:\n",
    "        print(e)\n",
    "        print(\"[%s] Error for URL : %s\" % (datetime.datetime.now(), url))\n",
    "        return None\n"
   ]
  },
  {
   "cell_type": "code",
   "execution_count": 5,
   "metadata": {},
   "outputs": [],
   "source": [
    "def getNaverSearch(node, srcText, start, display):\n",
    "    base = \"https://openapi.naver.com/v1/search\"\n",
    "    node = \"/%s.json\" % node\n",
    "    parameters = \"?query=%s&start=%s&display=%s\" % (urllib.parse.quote(srcText), start, display)\n",
    "\n",
    "    url = base + node + parameters\n",
    "    responseDecode = getRequestUrl(url) #[CODE 1]\n",
    "    if (responseDecode == None):\n",
    "        return None\n",
    "    else:\n",
    "        return json.loads(responseDecode)\n"
   ]
  },
  {
   "cell_type": "code",
   "execution_count": 6,
   "metadata": {},
   "outputs": [],
   "source": [
    "def getPostData(post, jsonResult, cnt):    \n",
    "    title = post['title']\n",
    "    description = post['description']\n",
    "    org_link = post['originallink']\n",
    "    link = post['link']\n",
    "    \n",
    "    pDate = datetime.datetime.strptime(post['pubDate'],  '%a, %d %b %Y %H:%M:%S +0900')\n",
    "    pDate = pDate.strftime('%Y-%m-%d %H:%M:%S')\n",
    "    \n",
    "    jsonResult.append({'cnt':cnt, 'title':title, 'description': description, \n",
    "'org_link':org_link,   'link': org_link,   'pDate':pDate})\n",
    "    return    \n"
   ]
  },
  {
   "cell_type": "code",
   "execution_count": 7,
   "metadata": {},
   "outputs": [
    {
     "name": "stdout",
     "output_type": "stream",
     "text": [
      "[2024-07-23 13:02:09.112211] Url Request Success\n",
      "[2024-07-23 13:02:09.282218] Url Request Success\n",
      "[2024-07-23 13:02:09.418265] Url Request Success\n",
      "[2024-07-23 13:02:09.545579] Url Request Success\n",
      "[2024-07-23 13:02:09.684637] Url Request Success\n",
      "[2024-07-23 13:02:09.834166] Url Request Success\n",
      "[2024-07-23 13:02:10.017482] Url Request Success\n",
      "[2024-07-23 13:02:10.150765] Url Request Success\n",
      "[2024-07-23 13:02:10.301630] Url Request Success\n",
      "[2024-07-23 13:02:10.454796] Url Request Success\n",
      "HTTP Error 400: Bad Request\n",
      "[2024-07-23 13:02:10.517780] Error for URL : https://openapi.naver.com/v1/search/news.json?query=%ED%91%B8%EB%B0%94%EC%98%A4&start=1001&display=100\n",
      "전체 검색 : 15892 건\n",
      "가져온 데이터 : 1000 건\n",
      "푸바오_naver_news.json SAVED\n"
     ]
    }
   ],
   "source": [
    "def main():\n",
    "    node = 'news'   # 크롤링 할 대상\n",
    "    srcText = input('검색어를 입력하세요: ')\n",
    "    cnt = 0\n",
    "    jsonResult = []\n",
    "\n",
    "    jsonResponse = getNaverSearch(node, srcText, 1, 100)  #[CODE 2]\n",
    "    if jsonResponse != None:\n",
    "        total = jsonResponse['total']\n",
    "        while ((jsonResponse != None) and (jsonResponse['display'] != 0)):         \n",
    "            for post in jsonResponse['items']:\n",
    "                cnt += 1\n",
    "                getPostData(post, jsonResult, cnt)  #[CODE 3]       \n",
    "        \n",
    "            start = jsonResponse['start'] + jsonResponse['display']\n",
    "            jsonResponse = getNaverSearch(node, srcText, start, 100)  #[CODE 2]\n",
    "       \n",
    "        print('전체 검색 : %d 건' %total)\n",
    "        with open('%s_naver_%s.json' % (srcText, node), 'w', encoding='utf8') as outfile:\n",
    "            jsonFile = json.dumps(jsonResult,  indent=4, sort_keys=True,  ensure_ascii=False)\n",
    "                        \n",
    "            outfile.write(jsonFile)\n",
    "        \n",
    "    print(\"가져온 데이터 : %d 건\" %(cnt))\n",
    "    print ('%s_naver_%s.json SAVED' % (srcText, node))\n",
    "\n",
    "if __name__ == '__main__':  #임포트되지 않고 직접 실행하는 경우라면\n",
    "    main()                  #main 함수 호출"
   ]
  },
  {
   "cell_type": "code",
   "execution_count": null,
   "metadata": {},
   "outputs": [],
   "source": []
  }
 ],
 "metadata": {
  "kernelspec": {
   "display_name": "pcore",
   "language": "python",
   "name": "python3"
  },
  "language_info": {
   "codemirror_mode": {
    "name": "ipython",
    "version": 3
   },
   "file_extension": ".py",
   "mimetype": "text/x-python",
   "name": "python",
   "nbconvert_exporter": "python",
   "pygments_lexer": "ipython3",
   "version": "3.12.4"
  }
 },
 "nbformat": 4,
 "nbformat_minor": 2
}
