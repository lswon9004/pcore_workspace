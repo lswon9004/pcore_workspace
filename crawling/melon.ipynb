{
 "cells": [
  {
   "cell_type": "code",
   "execution_count": 1,
   "metadata": {},
   "outputs": [],
   "source": [
    "import requests\n",
    "from bs4 import BeautifulSoup\n",
    " \n",
    "RANK = 100"
   ]
  },
  {
   "cell_type": "code",
   "execution_count": 2,
   "metadata": {},
   "outputs": [],
   "source": [
    "header = {'User-Agent': 'Mozilla/5.0 (Windows NT 6.3; Trident/7.0; rv:11.0) like Gecko'}\n",
    "req = requests.get('https://www.melon.com/chart/index.htm', headers = header) ## 주간 차트를 크롤링 할 것임\n",
    "html = req.text\n",
    "parse = BeautifulSoup(html, 'html.parser')"
   ]
  },
  {
   "cell_type": "code",
   "execution_count": 4,
   "metadata": {},
   "outputs": [],
   "source": [
    "titles = parse.find_all(\"div\", {\"class\": \"ellipsis rank01\"}) \n",
    "singers = parse.find_all(\"div\", {\"class\": \"ellipsis rank02\"}) \n",
    "albums = parse.find_all(\"div\",{\"class\": \"ellipsis rank03\"})"
   ]
  },
  {
   "cell_type": "code",
   "execution_count": 5,
   "metadata": {},
   "outputs": [],
   "source": [
    "title = []\n",
    "singer = []\n",
    "album = []"
   ]
  },
  {
   "cell_type": "code",
   "execution_count": 6,
   "metadata": {},
   "outputs": [],
   "source": [
    "for t in titles:\n",
    "    title.append(t.find('a').text)\n",
    " \n",
    "for s in singers:\n",
    "    singer.append(s.find('span', {\"class\": \"checkEllipsis\"}).text)\n",
    "\n",
    "for a in albums:\n",
    "    album.append(a.find('a').text)\n",
    " "
   ]
  },
  {
   "cell_type": "code",
   "execution_count": 7,
   "metadata": {},
   "outputs": [
    {
     "name": "stdout",
     "output_type": "stream",
     "text": [
      "  1위: Supernova [ Armageddon - The 1st Album ] - aespa\n",
      "  2위: Small girl (feat. 도경수(D.O.)) [ 16 Fantasy ] - 이영지\n",
      "  3위: How Sweet [ How Sweet ] - NewJeans\n",
      "  4위: Supernatural [ Supernatural ] - NewJeans\n",
      "  5위: 소나기 [ 선재 업고 튀어 OST Part 1 ] - 이클립스 (ECLIPSE)\n",
      "  6위: Sticky [ Sticky ] - KISS OF LIFE\n",
      "  7위: Bubble Gum [ How Sweet ] - NewJeans\n",
      "  8위: 고민중독 [ 1st Mini Album 'MANITO' ] - QWER\n",
      "  9위: Armageddon [ Armageddon - The 1st Album ] - aespa\n",
      " 10위: 클락션 (Klaxon) [ I SWAY ] - (여자)아이들\n"
     ]
    }
   ],
   "source": [
    "for i in range(10):\n",
    "    print('%3d위: %s [ %s ] - %s'%(i+1, title[i], album[i], singer[i]))"
   ]
  },
  {
   "cell_type": "code",
   "execution_count": null,
   "metadata": {},
   "outputs": [],
   "source": []
  }
 ],
 "metadata": {
  "kernelspec": {
   "display_name": "pcore",
   "language": "python",
   "name": "python3"
  },
  "language_info": {
   "codemirror_mode": {
    "name": "ipython",
    "version": 3
   },
   "file_extension": ".py",
   "mimetype": "text/x-python",
   "name": "python",
   "nbconvert_exporter": "python",
   "pygments_lexer": "ipython3",
   "version": "3.12.4"
  }
 },
 "nbformat": 4,
 "nbformat_minor": 2
}
