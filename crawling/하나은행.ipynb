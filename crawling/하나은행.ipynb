{
 "cells": [
  {
   "cell_type": "code",
   "execution_count": 1,
   "metadata": {},
   "outputs": [],
   "source": [
    "from selenium import webdriver\n",
    "from selenium.webdriver.common.by import By\n",
    "import time"
   ]
  },
  {
   "cell_type": "code",
   "execution_count": 2,
   "metadata": {},
   "outputs": [],
   "source": [
    "#크롬 창 크기 최대화\n",
    "options = webdriver.ChromeOptions()\n",
    "options.add_argument(\"--start-maximized\")\n",
    "driver = webdriver.Chrome()\n",
    "\n",
    "driver.get(\"https://www.kebhana.com/cont/mall/mall15/mall1503/index.jsp\")\n",
    "time.sleep(2)\n",
    "\n",
    "driver.switch_to.frame(\"bankIframe\")\n",
    "\n",
    "driver.find_element(By.XPATH,'//*[@id=\"inqFrm\"]/table/tbody/tr[1]/td/span/p/label[3]/span').click()\n",
    "\n",
    "driver.find_element(By.ID, 'tmpInqStrDt_p').clear()\n",
    "start = '20240701'\n",
    "driver.find_element(By.ID, 'tmpInqStrDt_p').send_keys(start)\n",
    "\n",
    "driver.find_element(By.ID, 'tmpInqEndDt_p').clear()\n",
    "start = '20240722'\n",
    "driver.find_element(By.ID, 'tmpInqEndDt_p').send_keys(start)\n",
    "\n",
    "currency = \"EUR:유로(유럽연합)\"\n",
    "driver.find_element(By.ID, 'curCd').send_keys(currency)\n",
    "\n",
    "driver.find_element(By.XPATH,'//*[@id=\"inqFrm\"]/table/tbody/tr[6]/td/span/p/label[2]').click()\n",
    "\n",
    "time.sleep(1)\n",
    "driver.find_element(By.XPATH, '//*[@id=\"HANA_CONTENTS_DIV\"]/div[2]/a').click()\n",
    "\n",
    "time.sleep(1)\n",
    "driver.find_element(By.XPATH, '//*[@id=\"searchContentDiv\"]/div[1]/a[2]/span').click()"
   ]
  },
  {
   "cell_type": "code",
   "execution_count": null,
   "metadata": {},
   "outputs": [],
   "source": []
  }
 ],
 "metadata": {
  "kernelspec": {
   "display_name": "pcore",
   "language": "python",
   "name": "python3"
  },
  "language_info": {
   "codemirror_mode": {
    "name": "ipython",
    "version": 3
   },
   "file_extension": ".py",
   "mimetype": "text/x-python",
   "name": "python",
   "nbconvert_exporter": "python",
   "pygments_lexer": "ipython3",
   "version": "3.12.4"
  }
 },
 "nbformat": 4,
 "nbformat_minor": 2
}
