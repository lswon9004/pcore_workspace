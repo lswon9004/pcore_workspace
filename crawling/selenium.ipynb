{
 "cells": [
  {
   "cell_type": "code",
   "execution_count": 2,
   "metadata": {},
   "outputs": [],
   "source": [
    "from selenium import webdriver\n",
    "import time\n",
    "import pandas as pd\n",
    "from bs4 import BeautifulSoup"
   ]
  },
  {
   "cell_type": "code",
   "execution_count": 3,
   "metadata": {},
   "outputs": [],
   "source": [
    "def CoffeeBean_store(result):\n",
    "    CoffeeBean_URL = \"https://www.coffeebeankorea.com/store/store.asp\"\n",
    "    wd = webdriver.Chrome()\n",
    "    \n",
    "    for i in range(1, 10):\n",
    "        wd.get(CoffeeBean_URL)\n",
    "        time.sleep(1) # 웹페이지 연결할 동안 1초 대기\n",
    "        \n",
    "        try:\n",
    "            # js함수 싱행\n",
    "            wd.execute_script(\"storePop2(%d)\" % i)\n",
    "            time.sleep(1)\n",
    "            \n",
    "            html = wd.page_source\n",
    "            \n",
    "            soupCB = BeautifulSoup(html, 'html.parser')\n",
    "            store_name_h2 = soupCB.select(\"div.store_txt > h2\")\n",
    "            store_name = store_name_h2[0].string\n",
    "            print(store_name)\n",
    "            \n",
    "            store_info = soupCB.select(\"div.store_txt > table > tbody > tr > td\")\n",
    "            store_address_list = list(store_info[2])\n",
    "            store_address = store_address_list[0]\n",
    "            store_phone = store_info[3].text\n",
    "            \n",
    "            result.append([store_name, store_address,store_phone])\n",
    "        except:\n",
    "            continue\n",
    "    return"
   ]
  },
  {
   "cell_type": "code",
   "execution_count": 4,
   "metadata": {},
   "outputs": [],
   "source": [
    "def main():\n",
    "    result = []\n",
    "    print('CoffeeBean crawling >>>>>>>>>>>>>>>>>>>>>>>>>>>>>')\n",
    "    \n",
    "    CoffeeBean_store(result)\n",
    "    print(\">>>\")\n",
    "    \n",
    "    cb_df = pd.DataFrame(result, columns=('store', 'address', 'phone'))\n",
    "    cb_df.to_csv(\"CoffeeBean_store.csv\", encoding='cp949', mode='w', index=True)"
   ]
  },
  {
   "cell_type": "code",
   "execution_count": 5,
   "metadata": {},
   "outputs": [
    {
     "name": "stdout",
     "output_type": "stream",
     "text": [
      "CoffeeBean crawling >>>>>>>>>>>>>>>>>>>>>>>>>>>>>\n",
      "차병원점\n",
      "강남대로점\n",
      ">>>\n"
     ]
    }
   ],
   "source": [
    "if __name__ == '__main__':\n",
    "    main()"
   ]
  },
  {
   "cell_type": "code",
   "execution_count": null,
   "metadata": {},
   "outputs": [],
   "source": []
  }
 ],
 "metadata": {
  "kernelspec": {
   "display_name": "pcore",
   "language": "python",
   "name": "python3"
  },
  "language_info": {
   "codemirror_mode": {
    "name": "ipython",
    "version": 3
   },
   "file_extension": ".py",
   "mimetype": "text/x-python",
   "name": "python",
   "nbconvert_exporter": "python",
   "pygments_lexer": "ipython3",
   "version": "3.12.4"
  }
 },
 "nbformat": 4,
 "nbformat_minor": 2
}
