{
 "cells": [
  {
   "cell_type": "code",
   "execution_count": 1,
   "metadata": {},
   "outputs": [],
   "source": [
    "#!/usr/bin/env python\n",
    "# coding: utf-8\n",
    "\n",
    "# In[6]:\n",
    "import pandas as pd \n",
    "\n",
    "import requests   \n",
    "from bs4 import BeautifulSoup"
   ]
  },
  {
   "cell_type": "code",
   "execution_count": 2,
   "metadata": {},
   "outputs": [],
   "source": [
    "#네이버 금융 국내증시 상위100의 기업 이름과 url 크롤링\n",
    "def get_top100(top100_url, top100_name):\n",
    "    url = 'https://finance.naver.com/sise/sise_quant.nhn'\n",
    "    result = requests.get(url)\n",
    "    html = BeautifulSoup(result.content, 'html.parser')\n",
    "\n",
    "    top100 = html.find_all('a', {'class':'tltle'})\n",
    "\n",
    "    for i in range(100):\n",
    "        url = 'https://finance.naver.com' + top100[i]['href']    \n",
    "        top100_url.append(url)\n",
    "    \n",
    "        company_name = top100[i].string    \n",
    "        top100_name.append(company_name)\n",
    "\n",
    "    return (top100_url, top100_name)\n",
    "\n",
    "\n",
    "# 검색할 기업 입력받기\n",
    "def get_company(top100_name):\n",
    "    company_name = input('주가를 검색할 기업이름을 입력하세요: ')\n",
    "\n",
    "    for i in range(101):\n",
    "        if i == 100: # 일치하는 종목이 없으면 100\n",
    "            return(100)\n",
    "        if company_name == top100_name[i]:            \n",
    "            return(i)            \n",
    "\n",
    "# company_url에 대한 기업 주식 정보 페이지 크롤링\n",
    "def get_company_stockPage(company_url):    \n",
    "    result = requests.get(company_url)\n",
    "    company_stockPage = BeautifulSoup(result.content, \"html.parser\")\n",
    "    return company_stockPage\n",
    "\n",
    "# 기업의 현재 주가 데이터 크롤링\n",
    "def get_price(company_url):\n",
    "    company_stockPage = get_company_stockPage(company_url) #[CODE 3]\n",
    "    no_today = company_stockPage.find(\"p\", {\"class\": \"no_today\"})\n",
    "    blind = no_today.find(\"span\", {\"class\": \"blind\"})\n",
    "    now_price = blind.text\n",
    "    return now_price\n",
    "\n",
    "\n",
    "#[CODE 0]\n",
    "def main():\n",
    "    top100_url=[]\n",
    "    top100_name = []\n",
    "\n",
    "    top100_url, top100_name = get_top100(top100_url, top100_name) #[CODE 1]\n",
    "\n",
    "    print(\"< 현재 네이버 금융 국내 코스피 상위100 기업 목록 >\")\n",
    "    print(top100_name)\n",
    "    print('')\n",
    "\n",
    "    company = int(get_company(top100_name))  #[CODE 2]\n",
    "    if company == 100:\n",
    "        print(\"입력한 기업은 상위100 목록에 없습니다.\")        \n",
    "    else :        \n",
    "        now_price = get_price(top100_url[company]) #[CODE 4]\n",
    "        print('%s 기업의 현재 주가는 %s 입니다' % (top100_name[company], now_price))"
   ]
  },
  {
   "cell_type": "code",
   "execution_count": null,
   "metadata": {},
   "outputs": [],
   "source": [
    "if __name__ == '__main__':\n",
    "     main()\n",
    "# %%"
   ]
  }
 ],
 "metadata": {
  "kernelspec": {
   "display_name": "pcore",
   "language": "python",
   "name": "python3"
  },
  "language_info": {
   "codemirror_mode": {
    "name": "ipython",
    "version": 3
   },
   "file_extension": ".py",
   "mimetype": "text/x-python",
   "name": "python",
   "nbconvert_exporter": "python",
   "pygments_lexer": "ipython3",
   "version": "3.12.4"
  }
 },
 "nbformat": 4,
 "nbformat_minor": 2
}
