{
 "cells": [
  {
   "cell_type": "code",
   "execution_count": 1,
   "metadata": {},
   "outputs": [
    {
     "name": "stdout",
     "output_type": "stream",
     "text": [
      "I have a dream a song to sing\n",
      "to help me cope with anything\n",
      "if you see the wonder of a fairy tale\n",
      "you can take the future even\n",
      "if you fail I believe in angels\n",
      "something good in everything\n",
      "<class 'str'>\n"
     ]
    }
   ],
   "source": [
    "f = open('dream.txt','r')\n",
    "contents = f.read()\n",
    "print(contents)\n",
    "print(type(contents))\n",
    "f.close()"
   ]
  },
  {
   "cell_type": "code",
   "execution_count": 2,
   "metadata": {},
   "outputs": [
    {
     "name": "stdout",
     "output_type": "stream",
     "text": [
      "I have a dream a song to sing\n",
      "to help me cope with anything\n",
      "if you see the wonder of a fairy tale\n",
      "you can take the future even\n",
      "if you fail I believe in angels\n",
      "something good in everything\n"
     ]
    }
   ],
   "source": [
    "with open('dream.txt','r') as f:\n",
    "    contents = f.read()\n",
    "    print(contents)"
   ]
  },
  {
   "cell_type": "code",
   "execution_count": 3,
   "metadata": {},
   "outputs": [
    {
     "name": "stdout",
     "output_type": "stream",
     "text": [
      "['I have a dream a song to sing\\n', 'to help me cope with anything\\n', 'if you see the wonder of a fairy tale\\n', 'you can take the future even\\n', 'if you fail I believe in angels\\n', 'something good in everything']\n"
     ]
    }
   ],
   "source": [
    "with open('dream.txt','r') as f:\n",
    "    contents = f.readlines()\n",
    "    print(contents)"
   ]
  },
  {
   "cell_type": "code",
   "execution_count": 4,
   "metadata": {},
   "outputs": [
    {
     "name": "stdout",
     "output_type": "stream",
     "text": [
      "I have a dream a song to sing\n",
      "\n"
     ]
    }
   ],
   "source": [
    "with open('dream.txt','r') as f:\n",
    "    contents = f.readline()\n",
    "    print(contents)"
   ]
  },
  {
   "cell_type": "code",
   "execution_count": 5,
   "metadata": {},
   "outputs": [
    {
     "name": "stdout",
     "output_type": "stream",
     "text": [
      "0===I have a dream a song to sing\n",
      "1===to help me cope with anything\n",
      "2===if you see the wonder of a fairy tale\n",
      "3===you can take the future even\n",
      "4===if you fail I believe in angels\n",
      "5===something good in everything\n"
     ]
    }
   ],
   "source": [
    "with open('dream.txt','r') as f:\n",
    "    i = 0\n",
    "    while 1 :\n",
    "        line = f.readline()\n",
    "        if not line:\n",
    "            break\n",
    "        print(str(i)+'==='+line.replace(\"\\n\",\"\"))\n",
    "        i+=1"
   ]
  },
  {
   "cell_type": "code",
   "execution_count": 13,
   "metadata": {},
   "outputs": [
    {
     "name": "stdout",
     "output_type": "stream",
     "text": [
      "총 글자의 수 :  187\n",
      "총 단어의 수 :  35\n",
      "총 줄의 수 :  6\n"
     ]
    }
   ],
   "source": [
    "with open('dream.txt','r') as f:\n",
    "    contents = f.read()\n",
    "    word_list = contents.split(\" \")\n",
    "    line_list = contents.split('\\n')\n",
    "\n",
    "print('총 글자의 수 : ', len(contents))\n",
    "print('총 단어의 수 : ', len(word_list))\n",
    "print('총 줄의 수 : ', len(line_list))"
   ]
  },
  {
   "cell_type": "code",
   "execution_count": 18,
   "metadata": {},
   "outputs": [],
   "source": [
    "f = open('count_log.txt','w',encoding=\"utf8\")\n",
    "for i in range(1,11):\n",
    "    data = '%d번쨰 줄이다.\\n' %i\n",
    "    f.write(data)\n",
    "f.close()"
   ]
  },
  {
   "cell_type": "code",
   "execution_count": 19,
   "metadata": {},
   "outputs": [],
   "source": [
    "f = open('count_log.txt','a',encoding=\"utf8\")\n",
    "for i in range(1,11):\n",
    "    data = '%d번쨰 줄이다.\\n' %i\n",
    "    f.write(data)\n",
    "f.close()"
   ]
  },
  {
   "cell_type": "code",
   "execution_count": 20,
   "metadata": {},
   "outputs": [],
   "source": [
    "import os\n",
    "\n",
    "if not os.path.isdir('log'):\n",
    "    os.mkdir('log')\n"
   ]
  },
  {
   "cell_type": "code",
   "execution_count": null,
   "metadata": {},
   "outputs": [],
   "source": []
  }
 ],
 "metadata": {
  "kernelspec": {
   "display_name": "pcore",
   "language": "python",
   "name": "python3"
  },
  "language_info": {
   "codemirror_mode": {
    "name": "ipython",
    "version": 3
   },
   "file_extension": ".py",
   "mimetype": "text/x-python",
   "name": "python",
   "nbconvert_exporter": "python",
   "pygments_lexer": "ipython3",
   "version": "3.12.4"
  }
 },
 "nbformat": 4,
 "nbformat_minor": 2
}
