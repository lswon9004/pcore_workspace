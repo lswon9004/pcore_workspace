{
 "cells": [
  {
   "cell_type": "markdown",
   "metadata": {},
   "source": [
    "자료 구조"
   ]
  },
  {
   "cell_type": "code",
   "execution_count": 1,
   "metadata": {},
   "outputs": [
    {
     "name": "stdout",
     "output_type": "stream",
     "text": [
      "['s', 'a', 'v', 'e', ' ', 't', 'h', 'e', ' ', 'w', 'o', 'r', 'l', 'd']\n",
      "['d', 'l', 'r', 'o', 'w', ' ', 'e', 'h', 't', ' ', 'e', 'v', 'a', 's']\n",
      "['s', 'a', 'v', 'e', ' ', 't', 'h', 'e', ' ', 'w', 'o', 'r', 'l', 'd']\n"
     ]
    }
   ],
   "source": [
    "word = input('input a word')\n",
    "word_list = list(word)\n",
    "print(word_list)\n",
    "\n",
    "result = []\n",
    "for _ in range(len(word_list)):\n",
    "    result.append(word_list.pop())\n",
    "\n",
    "print(result)\n",
    "print(result[::-1])"
   ]
  },
  {
   "cell_type": "code",
   "execution_count": 17,
   "metadata": {},
   "outputs": [
    {
     "name": "stdout",
     "output_type": "stream",
     "text": [
      "<class 'tuple'>\n",
      "(1, 2, 3, 4, 1, 2, 3, 4) (1, 2, 3, 4, 1, 2, 3, 4)\n",
      "4\n",
      "1\n"
     ]
    }
   ],
   "source": [
    "t = (1,2,3,4)\n",
    "print(type(t))\n",
    "print(t+t,t*2)\n",
    "print(len(t))\n",
    "print(t[0])\n",
    "# t[3] = 5 error\n",
    "# del t[3] error "
   ]
  },
  {
   "cell_type": "code",
   "execution_count": 12,
   "metadata": {},
   "outputs": [
    {
     "name": "stdout",
     "output_type": "stream",
     "text": [
      "(1,) <class 'tuple'>\n",
      "1\n"
     ]
    }
   ],
   "source": [
    "t1 = (1,)\n",
    "print(t1,type(t1))\n",
    "print(len(t1))"
   ]
  },
  {
   "cell_type": "code",
   "execution_count": 18,
   "metadata": {},
   "outputs": [
    {
     "name": "stdout",
     "output_type": "stream",
     "text": [
      "[1, 2, 3, 4, 10]\n",
      "(1, 2, 3, 4, 10)\n",
      "(1, 2, 3, 4)\n"
     ]
    }
   ],
   "source": [
    "list1 = list(t)\n",
    "list1.append(10)\n",
    "print(list1)\n",
    "\n",
    "tuple1 = tuple(list1)\n",
    "print(tuple1)\n",
    "print(t)\n"
   ]
  },
  {
   "cell_type": "code",
   "execution_count": 22,
   "metadata": {},
   "outputs": [
    {
     "name": "stdout",
     "output_type": "stream",
     "text": [
      "{1, 2, 3, 4, 5, 6, 7, 8, 9}\n",
      "{'a', 1, 2, 3}\n"
     ]
    }
   ],
   "source": [
    "set1 = set([1,2,3,4,5,6,7,8,9,1,3,4,5,2,7,8])\n",
    "print(set1)\n",
    "set2 ={1,2,3,1,2,3,'a'}\n",
    "print(set2)"
   ]
  },
  {
   "cell_type": "code",
   "execution_count": 25,
   "metadata": {},
   "outputs": [
    {
     "name": "stdout",
     "output_type": "stream",
     "text": [
      "{2, 'a', 3, 10}\n",
      "{2, 'a', 3, 10}\n",
      "set()\n"
     ]
    }
   ],
   "source": [
    "set2.add(10)\n",
    "print(set2)\n",
    "set2.discard(1)\n",
    "print(set2)\n",
    "set2.clear()\n",
    "print(set2)"
   ]
  },
  {
   "cell_type": "code",
   "execution_count": 31,
   "metadata": {},
   "outputs": [
    {
     "name": "stdout",
     "output_type": "stream",
     "text": [
      "{1, 2, 3, 4, 5, 6, 7}\n",
      "{1, 2, 3, 4, 5, 6, 7}\n",
      "{3, 4, 5}\n",
      "{1, 2}\n"
     ]
    }
   ],
   "source": [
    "s1 = set([1,2,3,4,5])\n",
    "s2 = set([3,4,5,6,7])\n",
    "\n",
    "print(s1|s2)\n",
    "print(s1&s2)\n",
    "print(s1 - s2)"
   ]
  },
  {
   "cell_type": "code",
   "execution_count": 33,
   "metadata": {},
   "outputs": [
    {
     "name": "stdout",
     "output_type": "stream",
     "text": [
      "[1, 2, 3, 4]\n"
     ]
    }
   ],
   "source": [
    "list3 = [1,2,3,3,4]\n",
    "s3 = set(list3)\n",
    "list4 = list(s3)\n",
    "print(list4)"
   ]
  },
  {
   "cell_type": "code",
   "execution_count": 42,
   "metadata": {},
   "outputs": [
    {
     "name": "stdout",
     "output_type": "stream",
     "text": [
      "{'america': 1, 'korea': 82, 'china': 86, 'japan': 81}\n",
      "dict_keys(['america', 'korea', 'china', 'japan'])\n",
      "dict_values([1, 82, 86, 81, 49])\n",
      "dict_items([('america', 1), ('korea', 82), ('china', 86), ('japan', 81), ('German', 49)])\n",
      "country : america code : 1\n",
      "country : korea code : 82\n",
      "country : china code : 86\n",
      "country : japan code : 81\n",
      "country : German code : 49\n",
      "True\n",
      "True\n",
      "{'america': 1, 'korea': 82, 'japan': 81, 'German': 49}\n",
      "{}\n"
     ]
    }
   ],
   "source": [
    "d = {}\n",
    "d = dict()\n",
    "country_code ={'america':1,'korea':82,'china':86,'japan':81}\n",
    "print(country_code)\n",
    "\n",
    "print(country_code.keys())\n",
    "country_code['German']=49\n",
    "print(country_code.values())\n",
    "print(country_code.items())\n",
    "\n",
    "for k,v in country_code.items():\n",
    "    print(\"country :\",k,'code :',v)\n",
    "print('korea' in country_code.keys())\n",
    "print(82 in country_code.values())\n",
    "\n",
    "del(country_code['china'])\n",
    "print(country_code)\n",
    "country_code.clear()\n",
    "print(country_code)"
   ]
  },
  {
   "cell_type": "code",
   "execution_count": 44,
   "metadata": {},
   "outputs": [
    {
     "name": "stdout",
     "output_type": "stream",
     "text": [
      "<class 'list'>\n"
     ]
    }
   ],
   "source": [
    "ss_closing_price = [70300,70800,72200,72500,72700]\n",
    "print(type(ss_closing_price))"
   ]
  },
  {
   "cell_type": "code",
   "execution_count": 46,
   "metadata": {},
   "outputs": [
    {
     "name": "stdout",
     "output_type": "stream",
     "text": [
      "72700\n"
     ]
    }
   ],
   "source": [
    "print(max(ss_closing_price))"
   ]
  },
  {
   "cell_type": "code",
   "execution_count": 47,
   "metadata": {},
   "outputs": [
    {
     "name": "stdout",
     "output_type": "stream",
     "text": [
      "70300\n"
     ]
    }
   ],
   "source": [
    "print(min(ss_closing_price))"
   ]
  },
  {
   "cell_type": "code",
   "execution_count": 48,
   "metadata": {},
   "outputs": [
    {
     "name": "stdout",
     "output_type": "stream",
     "text": [
      "2400\n"
     ]
    }
   ],
   "source": [
    "print(max(ss_closing_price)-min(ss_closing_price))"
   ]
  },
  {
   "cell_type": "code",
   "execution_count": 49,
   "metadata": {},
   "outputs": [
    {
     "name": "stdout",
     "output_type": "stream",
     "text": [
      "72200\n"
     ]
    }
   ],
   "source": [
    "print(ss_closing_price[2])"
   ]
  },
  {
   "cell_type": "code",
   "execution_count": 51,
   "metadata": {},
   "outputs": [
    {
     "name": "stdout",
     "output_type": "stream",
     "text": [
      "{'11/13': 70300, '11/14': 70800, '11/15': 72200, '11/16': 72500, '11/17': 72700}\n",
      "<class 'dict'>\n"
     ]
    }
   ],
   "source": [
    "ss_closing_price2={'11/13':70300,'11/14':70800,'11/15':72200,'11/16':72500,'11/17':72700}\n",
    "print(ss_closing_price2)\n",
    "print(type(ss_closing_price2))"
   ]
  },
  {
   "cell_type": "code",
   "execution_count": 52,
   "metadata": {},
   "outputs": [
    {
     "name": "stdout",
     "output_type": "stream",
     "text": [
      "72200\n"
     ]
    }
   ],
   "source": [
    "print(ss_closing_price2['11/15'])"
   ]
  },
  {
   "cell_type": "code",
   "execution_count": 53,
   "metadata": {},
   "outputs": [
    {
     "name": "stdout",
     "output_type": "stream",
     "text": [
      "{1, 2, 3, 4}\n"
     ]
    }
   ],
   "source": [
    "def add_number(original_list):\n",
    "    original_list += [1]\n",
    "mylist = [1, 2, 3, 4]\n",
    "add_number(mylist)\n",
    "print(set(mylist))\n"
   ]
  },
  {
   "cell_type": "code",
   "execution_count": 55,
   "metadata": {},
   "outputs": [
    {
     "name": "stdout",
     "output_type": "stream",
     "text": [
      "26\n"
     ]
    }
   ],
   "source": [
    "def week_seven(sentence1):\n",
    "    cells = set(sentence1.replace(' ','').lower())\n",
    "    return cells\n",
    "sentence_a = \"The quick brown fox jumps over the lazy dog\"\n",
    "sentence_b = \"I love you\" \n",
    "print(len(week_seven(sentence_a)-week_seven(sentence_b)))\n"
   ]
  },
  {
   "cell_type": "code",
   "execution_count": 56,
   "metadata": {},
   "outputs": [
    {
     "name": "stdout",
     "output_type": "stream",
     "text": [
      "[1, 2, 3, 4, 5, 6]\n"
     ]
    }
   ],
   "source": [
    "tuple_1 = (1, 2, 3)\n",
    "tuple_2 = (4, 5, 6)\n",
    "\n",
    "def quiz_1(data_1, data_2):\n",
    "    result = []\n",
    "    for i in (tuple_1 + tuple_2):\n",
    "        result.append(i)\n",
    "    return (result)\n",
    "\n",
    "print(quiz_1(tuple_1, tuple_2))\n"
   ]
  },
  {
   "cell_type": "code",
   "execution_count": 57,
   "metadata": {},
   "outputs": [
    {
     "name": "stdout",
     "output_type": "stream",
     "text": [
      "4\n"
     ]
    }
   ],
   "source": [
    "dict_1 = {2:1, 4:2, 6:3, 8:4, 10:6}\n",
    "\n",
    "dict_keys = list(dict_1.keys())\n",
    "dict_values = list(dict_1.values())\n",
    "\n",
    "dict_2 = dict()\n",
    "\n",
    "for i in range(len(dict_keys)):\n",
    "    dict_2[dict_values[i]] = dict_keys[i]\n",
    "\n",
    "print(dict_2[2])\n"
   ]
  },
  {
   "cell_type": "code",
   "execution_count": 58,
   "metadata": {},
   "outputs": [
    {
     "name": "stdout",
     "output_type": "stream",
     "text": [
      "6\n"
     ]
    }
   ],
   "source": [
    "box = [1,'red',3,(),[ ],None]\n",
    "print(len(box))\n"
   ]
  },
  {
   "cell_type": "code",
   "execution_count": 60,
   "metadata": {},
   "outputs": [
    {
     "name": "stdout",
     "output_type": "stream",
     "text": [
      "(1,)\n",
      "[1]\n",
      "error\n",
      "error\n",
      "a\n",
      "a\n"
     ]
    }
   ],
   "source": [
    "data_1 = {'one' : (1,2,3,4,5,6), 'two' : [1,2,3,4,5,6], 'three' : {'four' : 4, 'five' : 5}}\n",
    "\n",
    "for k in ['one','two','three']:\n",
    "    try:\n",
    "        print(data_1[k][:1])\n",
    "    except KeyError:\n",
    "        print(\"error\")\n",
    "\n",
    "for k in ['one', 'two','three']:\n",
    "    try:\n",
    "        data_1[k][-1] = \"a\"\n",
    "        print(data_1[k][-1])\n",
    "    except TypeError :\n",
    "        print(\"error\")\n"
   ]
  },
  {
   "cell_type": "code",
   "execution_count": 61,
   "metadata": {},
   "outputs": [
    {
     "data": {
      "text/plain": [
       "{'one': (1, 2, 3, 4, 5, 6),\n",
       " 'two': [1, 2, 3, 4, 5, 'a'],\n",
       " 'three': {'four': 4, 'five': 5, -1: 'a'}}"
      ]
     },
     "execution_count": 61,
     "metadata": {},
     "output_type": "execute_result"
    }
   ],
   "source": [
    "data_1"
   ]
  },
  {
   "cell_type": "code",
   "execution_count": 63,
   "metadata": {},
   "outputs": [
    {
     "name": "stdout",
     "output_type": "stream",
     "text": [
      "22\n"
     ]
    }
   ],
   "source": [
    "a = 0\n",
    "midterm_set = set([1, 5, 7, 4, 3, 2, 1, 1, 2, 3])\n",
    "for i in midterm_set:\n",
    "    a = a+i\n",
    "\n",
    "print(a)\n"
   ]
  },
  {
   "cell_type": "code",
   "execution_count": null,
   "metadata": {},
   "outputs": [],
   "source": []
  }
 ],
 "metadata": {
  "kernelspec": {
   "display_name": "pcore",
   "language": "python",
   "name": "python3"
  },
  "language_info": {
   "codemirror_mode": {
    "name": "ipython",
    "version": 3
   },
   "file_extension": ".py",
   "mimetype": "text/x-python",
   "name": "python",
   "nbconvert_exporter": "python",
   "pygments_lexer": "ipython3",
   "version": "3.12.4"
  }
 },
 "nbformat": 4,
 "nbformat_minor": 2
}
