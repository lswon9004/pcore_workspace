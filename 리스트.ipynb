{
 "cells": [
  {
   "cell_type": "markdown",
   "metadata": {},
   "source": [
    "### 리스트\n",
    "- 리스트[시작인덱스:마지막인덱스-1]\n",
    "- 리스트[시작인덱스:]\n",
    "- 리스트[:]\n",
    "- 리스트[시작인데스:마지막인덱스-1:증가값]"
   ]
  },
  {
   "cell_type": "code",
   "execution_count": 21,
   "metadata": {},
   "outputs": [
    {
     "name": "stdout",
     "output_type": "stream",
     "text": [
      "blue\n",
      "3\n",
      "green\n"
     ]
    }
   ],
   "source": [
    "color = [\"red\", \"blue\",\"green\"]\n",
    "print(color[1])\n",
    "print(len(color))\n",
    "print(color[-1])\n",
    "# print(color[10])"
   ]
  },
  {
   "cell_type": "code",
   "execution_count": 4,
   "metadata": {},
   "outputs": [
    {
     "name": "stdout",
     "output_type": "stream",
     "text": [
      "['서울', '부산', '인천', '대구', '대전', '광주']\n",
      "cities[0:index] ['서울', '부산', '인천', '대구', '대전']\n",
      "cities[index:] ['광주', '울산', '수원']\n"
     ]
    }
   ],
   "source": [
    "cities = ['서울','부산','인천','대구','대전','광주','울산','수원']\n",
    "print(cities[0:6])\n",
    "index = 5\n",
    "print('cities[0:index]',cities[0:index])\n",
    "print('cities[index:]',cities[index:])"
   ]
  },
  {
   "cell_type": "code",
   "execution_count": 11,
   "metadata": {},
   "outputs": [
    {
     "name": "stdout",
     "output_type": "stream",
     "text": [
      "['서울', '부산', '인천', '대구', '대전', '광주', '울산', '수원']\n",
      "['서울', '부산', '인천']\n",
      "['수원']\n"
     ]
    }
   ],
   "source": [
    "print(cities[-8:])\n",
    "print(cities[-99:3])\n",
    "print(cities[-1:])"
   ]
  },
  {
   "cell_type": "code",
   "execution_count": 10,
   "metadata": {},
   "outputs": [
    {
     "name": "stdout",
     "output_type": "stream",
     "text": [
      "['서울', '인천', '대전', '울산']\n",
      "['수원', '울산', '광주', '대전', '대구', '인천', '부산', '서울']\n"
     ]
    }
   ],
   "source": [
    "print(cities[::2])\n",
    "print(cities[::-1])"
   ]
  },
  {
   "cell_type": "markdown",
   "metadata": {},
   "source": [
    "#### 리스트 연산\n",
    "- 리스트 + 리스트\n",
    "- 리스트 * int"
   ]
  },
  {
   "cell_type": "code",
   "execution_count": 13,
   "metadata": {},
   "outputs": [
    {
     "name": "stdout",
     "output_type": "stream",
     "text": [
      "<class 'list'>\n",
      "['red', 'green', 'blue', 'orange', 'black', 'white'] <class 'list'>\n"
     ]
    }
   ],
   "source": [
    "color1 = ['red','green','blue']\n",
    "color2 = ['orange','black','white']\n",
    "print(type(color1))\n",
    "total = color1 + color2\n",
    "print(total,type(total))"
   ]
  },
  {
   "cell_type": "code",
   "execution_count": 14,
   "metadata": {},
   "outputs": [
    {
     "name": "stdout",
     "output_type": "stream",
     "text": [
      "['red', 'green', 'blue', 'red', 'green', 'blue', 'red', 'green', 'blue']\n"
     ]
    }
   ],
   "source": [
    "print(color1*3)"
   ]
  },
  {
   "cell_type": "code",
   "execution_count": 15,
   "metadata": {},
   "outputs": [
    {
     "name": "stdout",
     "output_type": "stream",
     "text": [
      "['red', 'green', 'blue']\n",
      "['red', 'green', 'blue', 'purple']\n",
      "['red', 'green', 'blue', 'purple', 'yellow', 'pnik']\n",
      "[['navy', 'grey'], 'red', 'green', 'blue', 'purple', 'yellow', 'pnik']\n"
     ]
    }
   ],
   "source": [
    "print(color1)\n",
    "color1.append('purple')\n",
    "print(color1)\n",
    "color1.extend(['yellow', 'pnik'])\n",
    "print(color1)\n",
    "color1.insert(0,['navy','grey'])\n",
    "print(color1)"
   ]
  },
  {
   "cell_type": "code",
   "execution_count": 16,
   "metadata": {},
   "outputs": [
    {
     "name": "stdout",
     "output_type": "stream",
     "text": [
      "navy\n"
     ]
    }
   ],
   "source": [
    "print(color1[0][0])"
   ]
  },
  {
   "cell_type": "code",
   "execution_count": 17,
   "metadata": {},
   "outputs": [
    {
     "name": "stdout",
     "output_type": "stream",
     "text": [
      "['red', 'green', 'blue', 'purple', 'yellow', 'pnik']\n"
     ]
    }
   ],
   "source": [
    "del color1[0]\n",
    "print(color1)"
   ]
  },
  {
   "cell_type": "code",
   "execution_count": 18,
   "metadata": {},
   "outputs": [
    {
     "name": "stdout",
     "output_type": "stream",
     "text": [
      "['red', 'green', 'blue', 'purple', 'yellow', 'pnik', 'red']\n"
     ]
    }
   ],
   "source": [
    "color1.append('red')\n",
    "print(color1)"
   ]
  },
  {
   "cell_type": "code",
   "execution_count": 19,
   "metadata": {},
   "outputs": [
    {
     "name": "stdout",
     "output_type": "stream",
     "text": [
      "['green', 'blue', 'purple', 'yellow', 'pnik', 'red']\n"
     ]
    }
   ],
   "source": [
    "color1.remove(\"red\") # 해당값이 려러개 있어도 하나만 삭제\n",
    "print(color1)"
   ]
  },
  {
   "cell_type": "code",
   "execution_count": 20,
   "metadata": {},
   "outputs": [
    {
     "name": "stdout",
     "output_type": "stream",
     "text": [
      "['green', 'blue']\n"
     ]
    }
   ],
   "source": [
    "del color1[2:]\n",
    "print(color1)"
   ]
  },
  {
   "cell_type": "code",
   "execution_count": 22,
   "metadata": {},
   "outputs": [
    {
     "name": "stdout",
     "output_type": "stream",
     "text": [
      "(1, 2, 3) <class 'tuple'>\n"
     ]
    }
   ],
   "source": [
    "t = 1,2,3 #패킹\n",
    "print(t, type(t))"
   ]
  },
  {
   "cell_type": "code",
   "execution_count": 23,
   "metadata": {},
   "outputs": [
    {
     "name": "stdout",
     "output_type": "stream",
     "text": [
      "a : 1, b : 2, c : 3\n"
     ]
    }
   ],
   "source": [
    "a,b,c =t # 언패킹\n",
    "print(\"a : {}, b : {}, c : {}\".format(a,b,c))"
   ]
  },
  {
   "cell_type": "code",
   "execution_count": 24,
   "metadata": {},
   "outputs": [
    {
     "name": "stdout",
     "output_type": "stream",
     "text": [
      "3\n",
      "1\n",
      "[2]\n"
     ]
    }
   ],
   "source": [
    "a =[1,2,3]\n",
    "print(a.pop())\n",
    "print(a.pop(0))\n",
    "print(a)"
   ]
  },
  {
   "cell_type": "code",
   "execution_count": 25,
   "metadata": {},
   "outputs": [
    {
     "name": "stdout",
     "output_type": "stream",
     "text": [
      "2\n",
      "[1, 1, 2, 2, 3, 4, 4, 4, 5, 5, 7, 7, 8, 8]\n"
     ]
    }
   ],
   "source": [
    "a=[1,2,5,4,7,8,4,5,2,8,7,4,1,3]\n",
    "print(a.count(2))\n",
    "a.sort()\n",
    "print(a)"
   ]
  },
  {
   "cell_type": "code",
   "execution_count": null,
   "metadata": {},
   "outputs": [],
   "source": []
  }
 ],
 "metadata": {
  "kernelspec": {
   "display_name": "pcore",
   "language": "python",
   "name": "python3"
  },
  "language_info": {
   "codemirror_mode": {
    "name": "ipython",
    "version": 3
   },
   "file_extension": ".py",
   "mimetype": "text/x-python",
   "name": "python",
   "nbconvert_exporter": "python",
   "pygments_lexer": "ipython3",
   "version": "3.12.4"
  }
 },
 "nbformat": 4,
 "nbformat_minor": 2
}
