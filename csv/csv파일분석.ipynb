{
 "cells": [
  {
   "cell_type": "code",
   "execution_count": 10,
   "metadata": {},
   "outputs": [
    {
     "name": "stdout",
     "output_type": "stream",
     "text": [
      "['a.csv', 'abc.csv', 'csv파일분석.ipynb', 'popSeoul2023.csv']\n",
      "[['국어', '수학', '영어'], ['100', '80', '90']]\n"
     ]
    }
   ],
   "source": [
    "import  os, usecsv, csv\n",
    "print(os.listdir())\n",
    "f = open('a.csv','r',encoding='cp949')\n",
    "new = csv.reader(f)\n",
    "a_list =[]\n",
    "for a in new:\n",
    "    a_list.append(a)\n",
    "print(a_list)\n",
    "f.close()"
   ]
  },
  {
   "cell_type": "code",
   "execution_count": 7,
   "metadata": {},
   "outputs": [],
   "source": [
    "def opencsv(filename):\n",
    "    f=open(filename,'r')\n",
    "    reader=csv.reader(f)\n",
    "    output =[]\n",
    "    for i in reader:\n",
    "        output.append(i)\n",
    "    return output"
   ]
  },
  {
   "cell_type": "code",
   "execution_count": 8,
   "metadata": {},
   "outputs": [],
   "source": [
    "# 표 -> 이차원 리스트\n",
    "a = [['구','전체','내국인','외국인'],\n",
    "    ['서초구','169518','411515','407672'],\n",
    "    ['강남구','234885','536710','531777'],\n",
    "    ['송파구','286119','668638','662961'],\n",
    "    ['강동구','202861','465496','461630']]\n",
    "f = open('abc.csv','w',newline='')\n",
    "csvwriter = csv.writer(f,delimiter=',')\n",
    "csvwriter.writerows(a)\n",
    "f.close()"
   ]
  },
  {
   "cell_type": "code",
   "execution_count": 9,
   "metadata": {},
   "outputs": [
    {
     "name": "stdout",
     "output_type": "stream",
     "text": [
      "[['구', '전체', '내국인', '외국인'], ['서초구', '169518', '411515', '407672'], ['강남구', '234885', '536710', '531777'], ['송파구', '286119', '668638', '662961'], ['강동구', '202861', '465496', '461630']]\n"
     ]
    }
   ],
   "source": [
    "import usecsv\n",
    "\n",
    "a_list = usecsv.opencsv('abc.csv')\n",
    "print(a_list)"
   ]
  },
  {
   "cell_type": "code",
   "execution_count": 11,
   "metadata": {},
   "outputs": [
    {
     "name": "stdout",
     "output_type": "stream",
     "text": [
      "[['Gu', 'Korean', 'Foreigner', 'Senior'], ['Total', '9,407,540', '248,378', '1,667,411'], ['Jongrogu', '139,945', '11,182', '27,958'], ['Jongru', '121,405', '10,420', '25,055'], ['Yongsangu', '216,152', '14,540', '39,037']]\n"
     ]
    }
   ],
   "source": [
    "seoul = usecsv.opencsv('popSeoul2023.csv')\n",
    "print(seoul[:5])"
   ]
  },
  {
   "cell_type": "code",
   "execution_count": 16,
   "metadata": {},
   "outputs": [
    {
     "name": "stdout",
     "output_type": "stream",
     "text": [
      "[['Gu', 'Korean', 'Foreigner', 'Senior'], ['Total', 9407540.0, 248378.0, 1667411.0], ['Jongrogu', 139945.0, 11182.0, 27958.0], ['Jongru', 121405.0, 10420.0, 25055.0], ['Yongsangu', 216152.0, 14540.0, 39037.0]]\n"
     ]
    }
   ],
   "source": [
    "newPop = usecsv.switch(seoul)\n",
    "print(newPop[:5])"
   ]
  },
  {
   "cell_type": "code",
   "execution_count": 17,
   "metadata": {},
   "outputs": [
    {
     "name": "stdout",
     "output_type": "stream",
     "text": [
      "['Total', 9407540.0, 248378.0, 1667411.0]\n",
      "2.6\n"
     ]
    }
   ],
   "source": [
    "i = newPop[1]\n",
    "print(i)\n",
    "# 전체 인구 대비 외국인 비율 계산\n",
    "foreign = round((i[2] / (i[1]+i[2])*100),1)\n",
    "print(foreign)"
   ]
  },
  {
   "cell_type": "code",
   "execution_count": 18,
   "metadata": {},
   "outputs": [
    {
     "name": "stdout",
     "output_type": "stream",
     "text": [
      "Total 2.6\n",
      "Jongrogu 7.4\n",
      "Jongru 7.9\n",
      "Yongsangu 6.3\n",
      "Seongdonggu 2.5\n",
      "Kwangjingu 4.4\n",
      "Dongdaemoongu 5.0\n",
      "Jungranggu 1.3\n",
      "Seongbukgu 2.8\n",
      "Gangbukgu 1.6\n",
      "Dobonggu 0.8\n",
      "Nowonggu 0.9\n",
      "Eunpyonggu 0.9\n",
      "Seodaemungu 4.3\n",
      "Mapogu 3.0\n",
      "Yangcheongu 0.7\n",
      "Gangseogu 1.0\n",
      "Gurogu 5.5\n",
      "Guemcheongu 5.6\n",
      "Youngdeungpogu 5.7\n",
      "Dongjakgu 2.7\n",
      "Kwanakgu 3.1\n",
      "Seoucheogu 1.1\n",
      "Gangnamgu 1.0\n",
      "Songpagu 0.9\n",
      "Gangdonggu 0.9\n"
     ]
    }
   ],
   "source": [
    "for i in newPop:\n",
    "    foreign = 0\n",
    "    try:\n",
    "        foreign =round((i[2] / (i[1]+i[2])*100),1)\n",
    "        print(i[0],foreign)\n",
    "    except:\n",
    "        pass"
   ]
  },
  {
   "cell_type": "code",
   "execution_count": 19,
   "metadata": {},
   "outputs": [],
   "source": [
    "new = [['구','한국인','외국인','외국인비율(%)']]\n",
    "for i in newPop:\n",
    "    foreign = 0\n",
    "    try:\n",
    "        foreign = round((i[2] / (i[1]+i[2])*100),1)\n",
    "        if foreign> 5 :\n",
    "            new.append([i[0],i[1],i[2],foreign])\n",
    "    except:\n",
    "        pass\n",
    "usecsv.writecsv('newPop2023.csv',new)\n"
   ]
  },
  {
   "cell_type": "code",
   "execution_count": 21,
   "metadata": {},
   "outputs": [
    {
     "name": "stdout",
     "output_type": "stream",
     "text": [
      "[['시군구', '단지명', '전용면적(㎡)', '계약일', '거래금액(만원)', '층', '건축년도', '도로명'], ['충청남도 천안시서북구 백석동', '호반리젠시빌', '84.9775', '16', '27,000', '5', '2003', '백석2길 40'], ['전북특별자치도 전주시완산구 효자동2가', '세븐팰리스 데시앙', '84.99', '16', '36,000', '1', '2013', '우전로 180']]\n"
     ]
    }
   ],
   "source": [
    "f = open('apt202407.csv','r',encoding='cp949')\n",
    "new = csv.reader(f)\n",
    "apt = []\n",
    "for i in new:\n",
    "    apt.append(i)\n",
    "f.close()\n",
    "print(apt[:3])"
   ]
  },
  {
   "cell_type": "code",
   "execution_count": 22,
   "metadata": {},
   "outputs": [
    {
     "name": "stdout",
     "output_type": "stream",
     "text": [
      "[['시군구', '단지명', '전용면적(㎡)', '계약일', '거래금액(만원)', '층', '건축년도', '도로명'], ['충청남도 천안시서북구 백석동', '호반리젠시빌', 84.9775, 16.0, 27000.0, 5.0, 2003.0, '백석2길 40'], ['전북특별자치도 전주시완산구 효자동2가', '세븐팰리스 데시앙', 84.99, 16.0, 36000.0, 1.0, 2013.0, '우전로 180']]\n"
     ]
    }
   ],
   "source": [
    "aptlist = usecsv.switch(apt)\n",
    "print(aptlist[:3])"
   ]
  },
  {
   "cell_type": "code",
   "execution_count": 26,
   "metadata": {},
   "outputs": [],
   "source": [
    "len(aptlist)"
   ]
  },
  {
   "cell_type": "code",
   "execution_count": 25,
   "metadata": {},
   "outputs": [
    {
     "name": "stdout",
     "output_type": "stream",
     "text": [
      "충청남도 천안시서북구 백석동 호반리젠시빌 27000.0\n",
      "전북특별자치도 전주시완산구 효자동2가 세븐팰리스 데시앙 36000.0\n",
      "경상남도 통영시 정량동 삼익 9500.0\n",
      "충청북도 영동군 영동읍 매천리 골든렉시움 31800.0\n",
      "경상북도 구미시 고아읍 원호리 원호한누리타운2 7200.0\n"
     ]
    }
   ],
   "source": [
    "# 시군구 아파트 단지명 거래금액 5개 출력\n",
    "for i in aptlist[1:6]:\n",
    "    print(i[0],i[1],i[4])"
   ]
  },
  {
   "cell_type": "code",
   "execution_count": 41,
   "metadata": {},
   "outputs": [
    {
     "name": "stdout",
     "output_type": "stream",
     "text": [
      "['경기도 성남시분당구 대장동', '판교풍경채어바니티(7단지)', 84.973, 9.0, 85000.0, 11.0, 2021.0, '판교대장로 77']\n",
      "['경기도 성남시분당구 구미동', '무지개(5단지)(청구)', 85.0, 6.0, 95000.0, 16.0, 1995.0, '무지개로 144']\n",
      "['경기도 성남시분당구 구미동', '무지개(3단지)(건영)', 68.16, 5.0, 79500.0, 7.0, 1996.0, '미금로 63']\n",
      "['경기도 성남시분당구 구미동', '무지개(5단지)(청구)', 85.0, 5.0, 95000.0, 9.0, 1995.0, '무지개로 144']\n",
      "['경기도 성남시분당구 판교동', '판교원마을6단지(판교대광로제비앙)', 59.667, 4.0, 95500.0, 4.0, 2009.0, '판교원로 209']\n",
      "['경기도 성남시분당구 분당동', '장안타운(건영)', 70.68, 4.0, 87000.0, 13.0, 1993.0, '장안로51번길 11']\n",
      "['경기도 성남시분당구 분당동', '샛별마을(삼부)', 59.82, 3.0, 83000.0, 1.0, 1992.0, '수내로 201']\n",
      "['경기도 성남시분당구 구미동', '무지개(5단지)(청구)', 85.0, 3.0, 97000.0, 7.0, 1995.0, '무지개로 144']\n",
      "['경기도 성남시분당구 야탑동', '매화마을공무원2', 66.6, 1.0, 78500.0, 6.0, 1995.0, '장미로 139']\n"
     ]
    }
   ],
   "source": [
    "import re\n",
    "for i in aptlist:\n",
    "    try:\n",
    "        if i[2]> 59 and i[4] < 100000 and re.search('분당',i[0]):\n",
    "            print(i)\n",
    "    except:\n",
    "        pass"
   ]
  },
  {
   "cell_type": "code",
   "execution_count": 42,
   "metadata": {},
   "outputs": [],
   "source": [
    "new_list = []\n",
    "for i in aptlist:\n",
    "    try:\n",
    "        if i[2]> 59 and i[4] < 100000 and re.search('분당',i[0]):\n",
    "            #print(i)\n",
    "            new_list.append(i)\n",
    "    except:\n",
    "        pass\n",
    "usecsv.writecsv('over59in분당.csv',new_list)"
   ]
  },
  {
   "cell_type": "code",
   "execution_count": 43,
   "metadata": {},
   "outputs": [],
   "source": [
    "English = 'She is a vegetarian. She does not eat meat. She thinks that animals should not be killed. It is hard for her to hang out with people. Many people like to eat meat. She told his parents not to have meat. They laughed at her. She realized they couldn\\'t give up meat.'\n",
    "## 영문을 English 객체에 저장합니다 \n",
    "Korean = '그녀는 채식주의자입니다. 그녀는 고기를 먹지 않습니다. 그녀는 동물을 죽이지 말아야한다고 생각합니다. 그녀가 사람들과 어울리는 것은 어렵습니다. 많은 사람들이 고기를 좋아합니다. 그녀는 부모에게 고기를 먹지 말라고 말했습니다. 그들은 그녀를 비웃었다. 그녀는 그들이 고기를 포기할 수 없다는 것을 깨달았습니다.'"
   ]
  },
  {
   "cell_type": "code",
   "execution_count": 59,
   "metadata": {},
   "outputs": [],
   "source": [
    "enlist = re.split(r'\\.',English)\n",
    "klist = re.split(r'\\.',Korean)"
   ]
  },
  {
   "cell_type": "code",
   "execution_count": 64,
   "metadata": {},
   "outputs": [
    {
     "name": "stdout",
     "output_type": "stream",
     "text": [
      "[['She is a vegetarian', '그녀는 채식주의자입니다'], [' She does not eat meat', ' 그녀는 고기를 먹지 않습니다'], [' She thinks that animals should not be killed', ' 그녀는 동물을 죽이지 말아야한다고 생각합니다'], [' It is hard for her to hang out with people', ' 그녀가 사람들과 어울리는 것은 어렵습니다'], [' Many people like to eat meat', ' 많은 사람들이 고기를 좋아합니다'], [' She told his parents not to have meat', ' 그녀는 부모에게 고기를 먹지 말라고 말했습니다'], [' They laughed at her', ' 그들은 그녀를 비웃었다'], [\" She realized they couldn't give up meat\", ' 그녀는 그들이 고기를 포기할 수 없다는 것을 깨달았습니다']]\n"
     ]
    }
   ],
   "source": [
    "new_list = [[enlist[i],klist[i]]for i in range(len(klist)-1)]\n",
    "print(new_list)\n",
    "usecsv.writecsv('en_to_kr.csv',new_list)"
   ]
  },
  {
   "cell_type": "code",
   "execution_count": null,
   "metadata": {},
   "outputs": [],
   "source": []
  }
 ],
 "metadata": {
  "kernelspec": {
   "display_name": "pcore",
   "language": "python",
   "name": "python3"
  },
  "language_info": {
   "codemirror_mode": {
    "name": "ipython",
    "version": 3
   },
   "file_extension": ".py",
   "mimetype": "text/x-python",
   "name": "python",
   "nbconvert_exporter": "python",
   "pygments_lexer": "ipython3",
   "version": "3.12.4"
  }
 },
 "nbformat": 4,
 "nbformat_minor": 2
}
