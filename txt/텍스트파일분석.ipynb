{
 "cells": [
  {
   "cell_type": "code",
   "execution_count": 3,
   "metadata": {},
   "outputs": [],
   "source": [
    "import os"
   ]
  },
  {
   "cell_type": "code",
   "execution_count": 4,
   "metadata": {},
   "outputs": [
    {
     "data": {
      "text/plain": [
       "'f:\\\\pcore_workspace\\\\txt'"
      ]
     },
     "execution_count": 4,
     "metadata": {},
     "output_type": "execute_result"
    }
   ],
   "source": [
    "os.getcwd()"
   ]
  },
  {
   "cell_type": "code",
   "execution_count": 5,
   "metadata": {},
   "outputs": [],
   "source": [
    "import re"
   ]
  },
  {
   "cell_type": "code",
   "execution_count": 6,
   "metadata": {},
   "outputs": [
    {
     "name": "stdout",
     "output_type": "stream",
     "text": [
      "life\n"
     ]
    }
   ],
   "source": [
    "pattern =r'life'\n",
    "spript1 = 'life is cool'\n",
    "\n",
    "print(re.match(pattern,spript1).group())\n",
    "#print(re.match(pattern,spript1).group())"
   ]
  },
  {
   "cell_type": "code",
   "execution_count": 7,
   "metadata": {},
   "outputs": [
    {
     "name": "stdout",
     "output_type": "stream",
     "text": [
      "not match\n"
     ]
    }
   ],
   "source": [
    "def refinder(pattern, spript):\n",
    "    if re.match(pattern,spript):\n",
    "        print(re.match(pattern,spript).group())\n",
    "    else:\n",
    "        print('not match')\n",
    "pattern='is'\n",
    "refinder(pattern,spript1)"
   ]
  },
  {
   "cell_type": "code",
   "execution_count": 8,
   "metadata": {},
   "outputs": [
    {
     "name": "stdout",
     "output_type": "stream",
     "text": [
      "<re.Match object; span=(5, 7), match='is'>\n",
      "is\n"
     ]
    }
   ],
   "source": [
    "pattern='is'\n",
    "spript1 = 'life is cool'\n",
    "print(re.search(pattern,spript1))\n",
    "print(re.search(pattern,spript1).group())"
   ]
  },
  {
   "cell_type": "code",
   "execution_count": 9,
   "metadata": {},
   "outputs": [
    {
     "data": {
      "text/plain": [
       "['91년생이고 97년에는 IMF가 있었습니다. 지금은 2024년']"
      ]
     },
     "execution_count": 9,
     "metadata": {},
     "output_type": "execute_result"
    }
   ],
   "source": [
    "e1 = '저는  91년생이고 97년에는 IMF가 있었습니다. 지금은 2024년입니다.'\n",
    "re.findall(r'\\d.+년',e1)"
   ]
  },
  {
   "cell_type": "code",
   "execution_count": 10,
   "metadata": {},
   "outputs": [
    {
     "data": {
      "text/plain": [
       "['91년', '97년', '2024년']"
      ]
     },
     "execution_count": 10,
     "metadata": {},
     "output_type": "execute_result"
    }
   ],
   "source": [
    "re.findall(r'\\d.+?년',e1)"
   ]
  },
  {
   "cell_type": "code",
   "execution_count": 13,
   "metadata": {},
   "outputs": [
    {
     "data": {
      "text/plain": [
       "['91년', '97년', '2024년']"
      ]
     },
     "execution_count": 13,
     "metadata": {},
     "output_type": "execute_result"
    }
   ],
   "source": [
    "re.findall(r'\\d+.년',e1)"
   ]
  },
  {
   "cell_type": "code",
   "execution_count": 15,
   "metadata": {},
   "outputs": [
    {
     "name": "stdout",
     "output_type": "stream",
     "text": [
      "['friends101.txt', '텍스트파일분석.ipynb']\n"
     ]
    }
   ],
   "source": [
    "print(os.listdir(os.getcwd()))"
   ]
  },
  {
   "cell_type": "code",
   "execution_count": 12,
   "metadata": {},
   "outputs": [
    {
     "name": "stdout",
     "output_type": "stream",
     "text": [
      "The One Where Monica Gets a New Roommate (The Pilot-The Uncut Version)\n",
      "Written by: Marta Kauffman & \n"
     ]
    }
   ],
   "source": [
    "f = open('friends101.txt','r',encoding='utf8')\n",
    "script101 = f.read()\n",
    "f.close()\n",
    "\n",
    "print(script101[:100])"
   ]
  },
  {
   "cell_type": "code",
   "execution_count": 16,
   "metadata": {},
   "outputs": [
    {
     "name": "stdout",
     "output_type": "stream",
     "text": [
      "Monica: There's nothing to tell! He's just some guy I work with!\n",
      "Monica: Okay, everybody relax. This is not even a date. It's just two people going out to dinner and- not having sex.\n",
      "Monica: And they weren't looking at you before?!\n"
     ]
    }
   ],
   "source": [
    "# Monica:\n",
    "mline = re.findall(r'Monica:.+',script101)\n",
    "for m in mline[:3]:\n",
    "    print(m)"
   ]
  },
  {
   "cell_type": "code",
   "execution_count": 20,
   "metadata": {},
   "outputs": [],
   "source": [
    "w = open('Monica.txt','w',encoding='utf8')\n",
    "for m in mline:\n",
    "    w.write(m+'\\n')\n",
    "w.close()"
   ]
  },
  {
   "cell_type": "code",
   "execution_count": 21,
   "metadata": {},
   "outputs": [],
   "source": [
    "w = open('Monica1.txt','w',encoding='utf8')\n",
    "monica = ''\n",
    "for m in mline:\n",
    "    monica += m +'\\n'\n",
    "w.write(monica)\n",
    "w.close()"
   ]
  },
  {
   "cell_type": "code",
   "execution_count": 35,
   "metadata": {},
   "outputs": [
    {
     "name": "stdout",
     "output_type": "stream",
     "text": [
      "['Note:', 'Scene:', 'Monica:', 'Joey:', 'Chandler:', 'Phoebe:', 'Phoebe:', 'Monica:', 'Chandler:', 'Chandler:']\n",
      "['Paul', 'Scene', 'Phoebe', 'Note', 'Ross', 'Waitress', 'Monica', 'Frannie', 'All', 'Chandler', 'Rachel', 'Customer', 'Joey']\n"
     ]
    }
   ],
   "source": [
    "characters = re.findall(r'[A-Z][a-z]+:',script101)\n",
    "print(characters[:10])\n",
    "chars = [char[:-1] for char in list(set(characters))]\n",
    "\n",
    "print(chars)"
   ]
  },
  {
   "cell_type": "code",
   "execution_count": 40,
   "metadata": {},
   "outputs": [
    {
     "name": "stdout",
     "output_type": "stream",
     "text": [
      "['(The Pilot-The Uncut Version)', '(Note: The previously unseen parts of this episode are shown in blue text.)', '(They all stare, bemused.)', '(mortified)', '(explaining to the others)', '(to Ross)', '(She starts to pluck at the air just in front of Ross.)']\n",
      "['The Pilot-The Uncut Version', 'Note: The previously unseen parts of this episode are shown in blue text.', 'They all stare, bemused.', 'mortified', 'explaining to the others', 'to Ross', 'She starts to pluck at the air just in front of Ross.', 'They all stare at him.', 'Ross gestures his consent.', 'Rachel enters in a wet wedding dress and starts to search the room.', 'He extends his hand hopefully.', 'pointing at Rachel) De-caff. (to All) Okay, everybody, this is Rachel, another Lincoln High survivor. (to Rachel', \"They go to hug but Ross's umbrella opens.  He sits back down defeated again.  A moment of silence follows as Rachel sits and the others expect her to explain.\", \"to the waitress that brought her coffee)Sweet 'n' Lo?- I realized that I was more turned on by this gravy boat than by Barry! And then I got really freaked out, and that's when it hit me: how much Barry looks like Mr. Potato Head. Y'know, I mean, I always knew looked familiar, but... Anyway, I just had to get out of there, and I started wondering 'Why am I doing this, and who am I doing this for?'. (to Monica\", 'imitating the characters', 'in a deep voice', 'on phone', 'The scene on TV has changed to show two women, one is holding her hair.', 'She is pushed down the stairs and everyone cheers.', 'sings) Raindrops on roses and rabbits and kittens, (Rachel and Monica turn to look at her.', 'grins and walks to the kitchen and says to Chandler and Joey.', 'comforting her', 'The door buzzer sounds and Chandler gets it.', 'over the intercom', 'to Ross', 'choked voice', 'horrified', 'normal voice', \"Chandler doesn't know.\", \"There's a knock on the door and it's Paul.\", 'They are all lined up next to the door.', 'Shows Paul in', 'Monica goes to change.', 'yelling from the bedroom', 'thinks', 'deadpan', 'singing) Love is sweet as summer showers, love is a wondrous work of art, but your love oh your love, your love...is like a giant pigeon...crapping on my heart.  La-la-la-la-la- (some guy gives her some change and to that guy) Thank you. (sings', 'squatting and reading the instructions', 'Joey and Chandler are finishing assembling the bookcase.', 'picking up a leftover part', 'Joey checks that Ross is not looking and dumps it in a plant.', 'clutching a beer can and sniffing', 'laughing', \"She stops talking and dials the phone.) Hi, machine cut me off again... anyway...look, look, I know that some girl is going to be incredibly lucky to become Mrs. Barry Finkel, but it isn't me, it's not me.  And not that I have any idea who me is right now, but you just have to give me a chance too... (The maching cuts her off again and she redials.\", 'Chandler hits what he is working on with a hammer and it collapses.', 'Monica takes a sip of her drink.', 'spitting out her drink in shock', 'pause', 'scornful', 'looks to Chandler', 'Exits.', 'He gazes out of the window.', 'Joey and Chandler taste the coffee, grimace, and pour it into a plant pot.', 'entering, to herself', \"entering from Monica's room\", \"Monica and Paul walk to the door and talk in a low voice so the others can't hear.  The others move Monica's table closer to the door so that they can.\", 'They kiss) Thank you. (Exits', 'They do so.', 'Walks to the door and opens it to leave.', 'Burst into song and dances out of the door.', 'Starts after Chandler.', 'Thinks', 'Monica exits.', 'sitting on the arm of the couch', 'She starts massaging them.', 'bursts out laughing again', 'Monica pushes him off of the sofa as Rachel enters with a shopping bag.', 'Pause', 'Chandler slowly tries to hide the now dead plant from that morning when he and Joey poured their coffee into it.', 'She cuts one of them and they cheer.', 'as Rachel is cutting up her cards', 'She finishes cutting them up and they all cheer.', 'To Ross', 'Monica smiles.', \"Monica stomps on Paul's watch and goes into her room.\", 'They both reach for the last cookie', 'They split it.', 'Rachel goes into her room and Monica enters the living room as Ross is leaving.', 'Ross exits and Monica has no idea what that means.', 'sings', 'sings', 'to Phoebe', 'walks up with a pot of coffee', \"Rachel sits down to hear Chandler's dream.\", 'To Rachel', \"To another customer that's leaving.) Excuse me, could you give this to that guy over there? (Hands him the coffee pot.) Go ahead. (He does so.) Thank you. (To the gang.\"]\n"
     ]
    }
   ],
   "source": [
    "# 지문만 출력하기\n",
    "# r'\\([A-Za-z].+[a-z|.]\\)'\n",
    "direction = re.findall(r'''\n",
    "                       \\(\n",
    "                       [A-Za-z]\n",
    "                       .+\n",
    "                       [a-z|\n",
    "                       .]\n",
    "                       \\)''', script101,re.VERBOSE)#정규표현식에서 공백제거\n",
    "print(direction[:7])\n",
    "directions = [sssss[1:-1] for sssss in direction]\n",
    "print(directions)"
   ]
  },
  {
   "cell_type": "code",
   "execution_count": 43,
   "metadata": {},
   "outputs": [
    {
     "name": "stdout",
     "output_type": "stream",
     "text": [
      "Rachel: Ooh, I was kinda hoping that wouldn't be an issue... [Scene: Monica's Apartment, everyone is there and watching a Spanish Soap on TV and are trying to figure out what is going on.]\n",
      "\n",
      "Chandler: I would have to say that is an 'L'-shaped bracket.\n",
      "\n",
      "Monica: Why?! Why? Why, why would anybody do something like that?\n",
      "\n",
      "Rachel: You would be too if you found John and David boots on sale, fifty percent off!\n",
      "\n",
      "Ross: Oh. Listen, do you think- and try not to let my intense vulnerability become any kind of a factor here- but do you think it would be okay if I asked you out? Sometime? Maybe?\n",
      "\n"
     ]
    }
   ],
   "source": [
    "f = open('friends101.txt','r',encoding='utf8')\n",
    "sentences = f.readlines()\n",
    "f.close()\n",
    "\n",
    "would = [i for i in sentences if re.search('would',i) ]\n",
    "for i in would[:5]:\n",
    "    print(i)"
   ]
  },
  {
   "cell_type": "code",
   "execution_count": 49,
   "metadata": {},
   "outputs": [],
   "source": [
    "f = open('would.txt','w',encoding='utf8')\n",
    "f.writelines(would)\n",
    "f.close()"
   ]
  },
  {
   "cell_type": "code",
   "execution_count": 52,
   "metadata": {},
   "outputs": [],
   "source": [
    "input_word = input(\"단어 입력\")\n",
    "\n",
    "f = open('friends101.txt', 'r', encoding='utf8')\n",
    "sentences = f.readlines()\n",
    "f.close()\n",
    "\n",
    "would = [i for i in sentences if re.match(r'[A-Z][a-z]+:', i) and re.search(input_word, i) ]\n",
    "\n",
    "newf = open(input_word+\".txt\", 'w', encoding='utf8')\n",
    "newf.writelines(would)\n",
    "newf.close()"
   ]
  },
  {
   "cell_type": "code",
   "execution_count": null,
   "metadata": {},
   "outputs": [],
   "source": []
  }
 ],
 "metadata": {
  "kernelspec": {
   "display_name": "pcore",
   "language": "python",
   "name": "python3"
  },
  "language_info": {
   "codemirror_mode": {
    "name": "ipython",
    "version": 3
   },
   "file_extension": ".py",
   "mimetype": "text/x-python",
   "name": "python",
   "nbconvert_exporter": "python",
   "pygments_lexer": "ipython3",
   "version": "3.12.4"
  }
 },
 "nbformat": 4,
 "nbformat_minor": 2
}
