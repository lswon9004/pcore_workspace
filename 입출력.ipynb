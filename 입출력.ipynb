{
 "cells": [
  {
   "cell_type": "markdown",
   "metadata": {},
   "source": [
    "### 입출력"
   ]
  },
  {
   "cell_type": "markdown",
   "metadata": {},
   "source": [
    "입력 \n",
    "- input()\n",
    "- input('메세지')"
   ]
  },
  {
   "cell_type": "code",
   "execution_count": 3,
   "metadata": {},
   "outputs": [
    {
     "name": "stdout",
     "output_type": "stream",
     "text": [
      "\n"
     ]
    }
   ],
   "source": [
    "a = input()\n",
    "print(a)"
   ]
  },
  {
   "cell_type": "code",
   "execution_count": 2,
   "metadata": {},
   "outputs": [
    {
     "name": "stdout",
     "output_type": "stream",
     "text": [
      "하오하오\n"
     ]
    }
   ],
   "source": [
    "b = input('문자열을 입력하세요')\n",
    "print(b)"
   ]
  },
  {
   "cell_type": "code",
   "execution_count": 4,
   "metadata": {},
   "outputs": [
    {
     "name": "stdout",
     "output_type": "stream",
     "text": [
      "100 <class 'int'> 200\n"
     ]
    }
   ],
   "source": [
    "i = int(input('정수를 입력하세요'))\n",
    "print(i, type(i), i+100)"
   ]
  },
  {
   "cell_type": "code",
   "execution_count": 5,
   "metadata": {},
   "outputs": [
    {
     "name": "stdout",
     "output_type": "stream",
     "text": [
      "44\n"
     ]
    }
   ],
   "source": [
    "a, b = input(\"공백을 넣어서 값을 두 개 입력하세요 : \").split()\n",
    "c = int(a) + int(b)\n",
    "print(c)\n"
   ]
  },
  {
   "cell_type": "markdown",
   "metadata": {},
   "source": [
    "#### 출력\n",
    "- print(1,2,3)\n",
    "- print(1,2,3, sep=',') :출력 데이터간의 구분자 지정 (기본값 : 공백)\n",
    "- print(1,2,3, end=' ') :출력 후 나올 문자(기본값: 줄바꿈)\n",
    "- print(\"포멧 형식 %d, %s\" %(정수, 문자열))\n",
    "- print(\"포멧 형식 {} + {} {}\".format(1,2,3))"
   ]
  },
  {
   "cell_type": "code",
   "execution_count": 7,
   "metadata": {},
   "outputs": [
    {
     "name": "stdout",
     "output_type": "stream",
     "text": [
      "1 2 31,2,3\n"
     ]
    }
   ],
   "source": [
    "print(1,2,3, end='')\n",
    "print(1,2,3, sep=',')"
   ]
  },
  {
   "cell_type": "code",
   "execution_count": 10,
   "metadata": {},
   "outputs": [
    {
     "name": "stdout",
     "output_type": "stream",
     "text": [
      "1,2,3,4,5,6\n"
     ]
    }
   ],
   "source": [
    "# 한줄로 출력\n",
    "print(1,2,sep=\",\" ,end=',')\n",
    "print(3,4,sep=\",\", end=\",\")\n",
    "print(5,6,sep=\",\")\n"
   ]
  },
  {
   "cell_type": "code",
   "execution_count": 11,
   "metadata": {},
   "outputs": [
    {
     "name": "stdout",
     "output_type": "stream",
     "text": [
      "7 / 3 = 2.333333\n"
     ]
    }
   ],
   "source": [
    "print(\"%d / %d = %f\" %(7,3,(7/3)))"
   ]
  },
  {
   "cell_type": "code",
   "execution_count": 12,
   "metadata": {},
   "outputs": [
    {
     "name": "stdout",
     "output_type": "stream",
     "text": [
      "python를 배우고 있습니다.\n"
     ]
    }
   ],
   "source": [
    "print(\"%s를 배우고 있습니다.\" %('python'))"
   ]
  },
  {
   "cell_type": "code",
   "execution_count": 22,
   "metadata": {},
   "outputs": [
    {
     "name": "stdout",
     "output_type": "stream",
     "text": [
      "123\n",
      "  123\n",
      "00123\n"
     ]
    }
   ],
   "source": [
    "print(\"%d\"%123)\n",
    "print(\"%5d\"%123) # 지정한 자릿수에 맞게 츌력\n",
    "print(\"%05d\"%123) # 지정한 자릿수에 맞게 츌력하되 빈자리를 0으로 출력"
   ]
  },
  {
   "cell_type": "code",
   "execution_count": 26,
   "metadata": {},
   "outputs": [
    {
     "name": "stdout",
     "output_type": "stream",
     "text": [
      "python\n",
      "    python\n"
     ]
    }
   ],
   "source": [
    "print(\"%s\" %('python'))\n",
    "print(\"%10s\" %('python'))"
   ]
  },
  {
   "cell_type": "code",
   "execution_count": 28,
   "metadata": {},
   "outputs": [
    {
     "name": "stdout",
     "output_type": "stream",
     "text": [
      "2 + 00100 = 30,000,000,000\n"
     ]
    }
   ],
   "source": [
    "print(\"{1:d} + {0:05d} = {2:,}\".format(100,2,30000000000))"
   ]
  },
  {
   "cell_type": "code",
   "execution_count": 30,
   "metadata": {},
   "outputs": [
    {
     "name": "stdout",
     "output_type": "stream",
     "text": [
      "\n",
      "줄바꿈\n",
      "연습\n",
      "\t텝키\t연습\n",
      "글자 \"'강조'\"연습\n"
     ]
    }
   ],
   "source": [
    "print(\"\\n줄바꿈\\n연습\")\n",
    "print(\"\\t텝키\\t연습\")\n",
    "print(\"글자 \\\"\\'강조\\'\\\"연습\")"
   ]
  },
  {
   "cell_type": "code",
   "execution_count": 40,
   "metadata": {},
   "outputs": [
    {
     "name": "stdout",
     "output_type": "stream",
     "text": [
      "섭씨온도 24.135C는 화씨온도 75.443F입니다\n"
     ]
    }
   ],
   "source": [
    "# 섭씨 온도를 받아 화씨 온도로 변환하는 프로그램 구현\n",
    "# (섭씨 온도 * 1.8)+32\n",
    "a= float(input(\"섭씨온도를 입력하세요\"))\n",
    "b = (a*1.8)+32\n",
    "print(\"섭씨온도 %.3fC는 화씨온도 %.3fF입니다\" %(a,b))"
   ]
  },
  {
   "cell_type": "code",
   "execution_count": null,
   "metadata": {},
   "outputs": [],
   "source": []
  }
 ],
 "metadata": {
  "kernelspec": {
   "display_name": "pcore",
   "language": "python",
   "name": "python3"
  },
  "language_info": {
   "codemirror_mode": {
    "name": "ipython",
    "version": 3
   },
   "file_extension": ".py",
   "mimetype": "text/x-python",
   "name": "python",
   "nbconvert_exporter": "python",
   "pygments_lexer": "ipython3",
   "version": "3.12.4"
  }
 },
 "nbformat": 4,
 "nbformat_minor": 2
}
