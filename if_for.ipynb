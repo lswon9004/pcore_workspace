{
 "cells": [
  {
   "cell_type": "markdown",
   "metadata": {},
   "source": [
    "if\n",
    "\n",
    "if 조건 :  조건이 True 일떄 수행할 문장\n",
    "\n",
    "\n",
    "else : 조건이 False 일 때 수행할 문장"
   ]
  },
  {
   "cell_type": "code",
   "execution_count": 3,
   "metadata": {},
   "outputs": [
    {
     "name": "stdout",
     "output_type": "stream",
     "text": [
      "no. u r not accepted\n",
      "if영역아님\n"
     ]
    }
   ],
   "source": [
    "myage = int(input('나이를 입력하세요 : '))\n",
    "if myage < 40 : \n",
    "    print('welcome to the club')\n",
    "else : \n",
    "    print('no. u r not accepted')\n",
    "print('if영역아님')"
   ]
  },
  {
   "cell_type": "code",
   "execution_count": 4,
   "metadata": {},
   "outputs": [
    {
     "name": "stdout",
     "output_type": "stream",
     "text": [
      "True\n"
     ]
    }
   ],
   "source": [
    "if 'hello':\n",
    "    print(True)\n",
    "else: \n",
    "    print(False)"
   ]
  },
  {
   "cell_type": "code",
   "execution_count": 6,
   "metadata": {},
   "outputs": [
    {
     "name": "stdout",
     "output_type": "stream",
     "text": [
      "True\n"
     ]
    }
   ],
   "source": [
    "print((3<5)<10)"
   ]
  },
  {
   "cell_type": "code",
   "execution_count": 17,
   "metadata": {},
   "outputs": [
    {
     "name": "stdout",
     "output_type": "stream",
     "text": [
      "20\n",
      "대학생입니다\n"
     ]
    }
   ],
   "source": [
    "import datetime\n",
    "\n",
    "today = datetime.date.today()\n",
    "y = today.year # 오늘 날짜값에서 연도 저장\n",
    "\n",
    "# 태어난 연도 입력\n",
    "# 나이 구하고 \n",
    "# 현재 상태(학생 종류) 출력\n",
    "\n",
    "yrYears = int(input(\"출생년도를 입력하세요\"))\n",
    "age = y - yrYears +1\n",
    "print(age)\n",
    "if age<=26 and age >=20 : print('대학생입니다')\n",
    "elif  age >=17: print('고등학생입니다')\n",
    "elif age >=14: print('중학생입니다')\n",
    "elif age >=8: print('초등학생입니다.')\n",
    "else : print('학생이 아닙니다.')"
   ]
  },
  {
   "cell_type": "code",
   "execution_count": 22,
   "metadata": {},
   "outputs": [
    {
     "name": "stdout",
     "output_type": "stream",
     "text": [
      "불합격이면서 과락입니다\n"
     ]
    }
   ],
   "source": [
    "'''시험점수를 사용자에게 입력받아, \"60\"점 이상이면 \"합격\", \"40\"점 미만이면 \"불합격이지만 과락은 아닙니다\",\n",
    "\"40\"점 미만이면 \"불합격이면서 과락입니다\"로 출력하시오.'''\n",
    "\n",
    "score = int(input(\"점수를 입력하세요 : \"))\n",
    "if score>=60 : string = \"합격\"\n",
    "elif score >=40 : string = \"불합격이지만 과락은 아닙니다\"\n",
    "else : string = \"불합격이면서 과락입니다\"\n",
    "print(string)"
   ]
  },
  {
   "cell_type": "code",
   "execution_count": 60,
   "metadata": {},
   "outputs": [
    {
     "name": "stdout",
     "output_type": "stream",
     "text": [
      "A :  12 B :  12\n",
      "비김\n"
     ]
    }
   ],
   "source": [
    "'''두 사람이 주사위를 던져 더 큰 수가 나오면 이기는 게임을 작성,\n",
    "A가 이기거나 B가 이기거나 비기는 결과가 나오도록 프로그램을 작성하시오.\n",
    "Tip) import random #난수 발생하는 모듈,\n",
    "num = random.randrange(1, 7) #1부터 6까지 숫자 중 하나의 값을 무작위 추출\n",
    "'''\n",
    "\n",
    "import random\n",
    "A = random.randrange(1,7) * random.randrange(1,7)\n",
    "B = random.randrange(1,7) * random.randrange(1,7)\n",
    "print(\"A : \",A,\"B : \",B)\n",
    "if A>B : print('a victory')\n",
    "elif B>A : print('b victory')\n",
    "else : print('비김')"
   ]
  },
  {
   "cell_type": "markdown",
   "metadata": {},
   "source": [
    "### 반복문"
   ]
  },
  {
   "cell_type": "markdown",
   "metadata": {},
   "source": [
    "for \n",
    "\n",
    "- for 변수 in 리스트 : 반복 수행할 문장\n",
    "- for 변수 in range(끝 +1) : 반복 수행할 문장\n",
    "- for 변수 in range(시작,끝 +1) : 반복 수행할 문장\n",
    "- for 변수 in range(시작,끝 +1,증가값) : 반복 수행할 문장"
   ]
  },
  {
   "cell_type": "code",
   "execution_count": 63,
   "metadata": {},
   "outputs": [
    {
     "name": "stdout",
     "output_type": "stream",
     "text": [
      "1 1\n",
      "2 4\n",
      "3 9\n",
      "for 끝\n"
     ]
    }
   ],
   "source": [
    "for i in [1,2,3] :\n",
    "    print(i, end=\" \")\n",
    "    print(i**2)\n",
    "print('for 끝')"
   ]
  },
  {
   "cell_type": "code",
   "execution_count": 64,
   "metadata": {},
   "outputs": [
    {
     "name": "stdout",
     "output_type": "stream",
     "text": [
      "hello\n",
      "hello\n",
      "hello\n"
     ]
    }
   ],
   "source": [
    "for _ in [1,2,3]:\n",
    "    print(\"hello\")"
   ]
  },
  {
   "cell_type": "code",
   "execution_count": 69,
   "metadata": {},
   "outputs": [
    {
     "name": "stdout",
     "output_type": "stream",
     "text": [
      "0\n",
      "1\n",
      "2\n",
      "1\n",
      "2\n",
      "3\n"
     ]
    }
   ],
   "source": [
    "# 3번 반복하는 for문\n",
    "for i in range(3):\n",
    "    print(i)\n",
    "for i in range(1,4):\n",
    "    print(i)"
   ]
  },
  {
   "cell_type": "code",
   "execution_count": 87,
   "metadata": {},
   "outputs": [
    {
     "name": "stdout",
     "output_type": "stream",
     "text": [
      "0 2 4 6 8 \n",
      "55\n",
      "187500\n"
     ]
    }
   ],
   "source": [
    "for i in range(0,9,2):\n",
    "    print(i,end=\" \")\n",
    "sum=0\n",
    "print()\n",
    "for i in range(1,11):\n",
    "    sum+=i\n",
    "print(sum)\n",
    "sum=0\n",
    "for i in range(501,1001,2):\n",
    "    sum+=i\n",
    "print(sum)"
   ]
  },
  {
   "cell_type": "code",
   "execution_count": 88,
   "metadata": {},
   "outputs": [
    {
     "name": "stdout",
     "output_type": "stream",
     "text": [
      "2 * 9 = 18\n",
      "2 * 8 = 16\n",
      "2 * 7 = 14\n",
      "2 * 6 = 12\n",
      "2 * 5 = 10\n",
      "2 * 4 = 8\n",
      "2 * 3 = 6\n",
      "2 * 2 = 4\n",
      "2 * 1 = 2\n"
     ]
    }
   ],
   "source": [
    "for i in range(9,0,-1):\n",
    "    print(2,\"*\",i,\"=\",i*2)"
   ]
  },
  {
   "cell_type": "code",
   "execution_count": 92,
   "metadata": {},
   "outputs": [
    {
     "name": "stdout",
     "output_type": "stream",
     "text": [
      "2 * 1 = 2 2 * 2 = 4 2 * 3 = 6 2 * 4 = 8 2 * 5 = 10 2 * 6 = 12 2 * 7 = 14 2 * 8 = 16 2 * 9 = 18 \n",
      "3 * 1 = 3 3 * 2 = 6 3 * 3 = 9 3 * 4 = 12 3 * 5 = 15 3 * 6 = 18 3 * 7 = 21 3 * 8 = 24 3 * 9 = 27 \n",
      "4 * 1 = 4 4 * 2 = 8 4 * 3 = 12 4 * 4 = 16 4 * 5 = 20 4 * 6 = 24 4 * 7 = 28 4 * 8 = 32 4 * 9 = 36 \n",
      "5 * 1 = 5 5 * 2 = 10 5 * 3 = 15 5 * 4 = 20 5 * 5 = 25 5 * 6 = 30 5 * 7 = 35 5 * 8 = 40 5 * 9 = 45 \n",
      "6 * 1 = 6 6 * 2 = 12 6 * 3 = 18 6 * 4 = 24 6 * 5 = 30 6 * 6 = 36 6 * 7 = 42 6 * 8 = 48 6 * 9 = 54 \n",
      "7 * 1 = 7 7 * 2 = 14 7 * 3 = 21 7 * 4 = 28 7 * 5 = 35 7 * 6 = 42 7 * 7 = 49 7 * 8 = 56 7 * 9 = 63 \n",
      "8 * 1 = 8 8 * 2 = 16 8 * 3 = 24 8 * 4 = 32 8 * 5 = 40 8 * 6 = 48 8 * 7 = 56 8 * 8 = 64 8 * 9 = 72 \n",
      "9 * 1 = 9 9 * 2 = 18 9 * 3 = 27 9 * 4 = 36 9 * 5 = 45 9 * 6 = 54 9 * 7 = 63 9 * 8 = 72 9 * 9 = 81 \n"
     ]
    }
   ],
   "source": [
    "for i in range(2,10):\n",
    "    for j in range(1,10):\n",
    "        print(i,\"*\",j,\"=\",i*j, end=\" \")\n",
    "    print()"
   ]
  },
  {
   "cell_type": "code",
   "execution_count": 93,
   "metadata": {},
   "outputs": [
    {
     "name": "stdout",
     "output_type": "stream",
     "text": [
      "a\n",
      "p\n",
      "p\n",
      "l\n",
      "e\n"
     ]
    }
   ],
   "source": [
    "for i in 'apple':\n",
    "    print(i)"
   ]
  },
  {
   "cell_type": "code",
   "execution_count": 94,
   "metadata": {},
   "outputs": [
    {
     "name": "stdout",
     "output_type": "stream",
     "text": [
      "apple\n",
      "banana\n",
      "orange\n"
     ]
    }
   ],
   "source": [
    "for i in ['apple','banana','orange']:\n",
    "    print(i)"
   ]
  },
  {
   "cell_type": "code",
   "execution_count": 95,
   "metadata": {},
   "outputs": [
    {
     "name": "stdout",
     "output_type": "stream",
     "text": [
      "0\n",
      "1\n",
      "2\n",
      "3\n",
      "4\n",
      "5\n",
      "6\n",
      "7\n",
      "8\n",
      "9\n"
     ]
    }
   ],
   "source": [
    "i=0\n",
    "while i <10 :\n",
    "    print(i)\n",
    "    i+=1"
   ]
  },
  {
   "cell_type": "code",
   "execution_count": 96,
   "metadata": {},
   "outputs": [
    {
     "name": "stdout",
     "output_type": "stream",
     "text": [
      "0\n",
      "1\n",
      "2\n",
      "3\n",
      "4\n",
      "6\n",
      "7\n",
      "8\n",
      "9\n"
     ]
    }
   ],
   "source": [
    "for i in range(10):\n",
    "    if i ==5 : continue\n",
    "    print(i)"
   ]
  },
  {
   "cell_type": "code",
   "execution_count": 97,
   "metadata": {},
   "outputs": [
    {
     "name": "stdout",
     "output_type": "stream",
     "text": [
      "0\n",
      "1\n",
      "2\n",
      "3\n",
      "4\n",
      "5\n",
      "6\n",
      "7\n",
      "8\n",
      "9\n",
      "end\n"
     ]
    }
   ],
   "source": [
    "for i in range(10):\n",
    "    print(i)\n",
    "else :\n",
    "    print('end')"
   ]
  },
  {
   "cell_type": "code",
   "execution_count": 114,
   "metadata": {},
   "outputs": [
    {
     "name": "stdout",
     "output_type": "stream",
     "text": [
      "0\n",
      "1\n",
      "2\n",
      "3\n",
      "4\n",
      "5\n"
     ]
    }
   ],
   "source": [
    "import random\n",
    "i = 0\n",
    "r = random.randrange(0,10)\n",
    "while True:\n",
    "    if r == i: break\n",
    "    print(i)\n",
    "    i+=1\n"
   ]
  },
  {
   "cell_type": "code",
   "execution_count": 116,
   "metadata": {},
   "outputs": [
    {
     "name": "stdout",
     "output_type": "stream",
     "text": [
      "oahoah evol i\n",
      "oahoah evol i\n"
     ]
    }
   ],
   "source": [
    "s = 'i love haohao'\n",
    "r = ''\n",
    "for c in s:\n",
    "    r = c + r\n",
    "print(r)\n",
    "print(s[::-1])"
   ]
  },
  {
   "cell_type": "code",
   "execution_count": 120,
   "metadata": {},
   "outputs": [
    {
     "name": "stdout",
     "output_type": "stream",
     "text": [
      " haohao love i\n"
     ]
    }
   ],
   "source": [
    "rs = s.split()\n",
    "o = ''\n",
    "for i in rs :\n",
    "    o = \" \"+i + o \n",
    "print(o)"
   ]
  },
  {
   "cell_type": "code",
   "execution_count": 121,
   "metadata": {},
   "outputs": [
    {
     "name": "stdout",
     "output_type": "stream",
     "text": [
      "you love I\n"
     ]
    }
   ],
   "source": [
    "print(' '.join(\"I love you\".split()[::-1]))"
   ]
  },
  {
   "cell_type": "code",
   "execution_count": 123,
   "metadata": {},
   "outputs": [
    {
     "name": "stdout",
     "output_type": "stream",
     "text": [
      "1110\n"
     ]
    }
   ],
   "source": [
    "d = int(input(\"십진수 입력\"))\n",
    "re = ''\n",
    "while d>0:\n",
    "    rem = d %2\n",
    "    d = d //2\n",
    "    re = str(rem)+re\n",
    "print(re)"
   ]
  },
  {
   "cell_type": "code",
   "execution_count": 132,
   "metadata": {},
   "outputs": [
    {
     "name": "stdout",
     "output_type": "stream",
     "text": [
      "숫자 맟추기 게임 (1~100)\n",
      "69\n",
      "숫자가 너무 큽니다\n",
      "69\n",
      "숫자가 너무 큽니다\n",
      "69\n",
      "숫자가 큽니다\n",
      "69\n",
      "숫자가 큽니다\n",
      "69\n",
      "숫자가 작습니다\n",
      "69\n",
      "숫자가 너무 작습니다\n",
      "69\n",
      "정답입니다\n"
     ]
    }
   ],
   "source": [
    "num = random.randrange(0,100)\n",
    "print('숫자 맟추기 게임 (1~100)')\n",
    "while True :\n",
    "    print(num)\n",
    "    rsv = int(input(\"숫자를 입력하세요\"))\n",
    "    if num == rsv:\n",
    "         print('정답입니다')\n",
    "         break\n",
    "    elif (num-rsv)>10: print('숫자가 너무 작습니다')\n",
    "    elif(num-rsv)<-10: print('숫자가 너무 큽니다')\n",
    "    elif(num-rsv)<0:\n",
    "        print('숫자가 큽니다')\n",
    "    elif(num-rsv)>0:\n",
    "        print('숫자가 작습니다')\n"
   ]
  },
  {
   "cell_type": "code",
   "execution_count": null,
   "metadata": {},
   "outputs": [],
   "source": []
  }
 ],
 "metadata": {
  "kernelspec": {
   "display_name": "pcore",
   "language": "python",
   "name": "python3"
  },
  "language_info": {
   "codemirror_mode": {
    "name": "ipython",
    "version": 3
   },
   "file_extension": ".py",
   "mimetype": "text/x-python",
   "name": "python",
   "nbconvert_exporter": "python",
   "pygments_lexer": "ipython3",
   "version": "3.12.4"
  }
 },
 "nbformat": 4,
 "nbformat_minor": 2
}
