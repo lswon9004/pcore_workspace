{
 "cells": [
  {
   "cell_type": "code",
   "execution_count": 27,
   "metadata": {},
   "outputs": [
    {
     "name": "stdout",
     "output_type": "stream",
     "text": [
      "[1, 2, 3, 4]\n"
     ]
    }
   ],
   "source": [
    "list1 = [1,2,3,4]\n",
    "print(list1)"
   ]
  },
  {
   "cell_type": "code",
   "execution_count": 28,
   "metadata": {},
   "outputs": [
    {
     "name": "stdout",
     "output_type": "stream",
     "text": [
      "<map object at 0x00000225323F0760>\n"
     ]
    }
   ],
   "source": [
    "print(map(lambda x : x+1,[1,2,3]))"
   ]
  },
  {
   "cell_type": "code",
   "execution_count": 29,
   "metadata": {},
   "outputs": [],
   "source": [
    "class Player:\n",
    "    def __init__(self, name, sport):\n",
    "        self.name = name\n",
    "        self.sport = sport\n",
    "        \n",
    "    def get_medal(self, color='gold'):\n",
    "        return (\"%s medal\"% color) \n",
    "    def __str__(self):\n",
    "        return \"%s의 %s 선수가 %s을 받았습니다\"%(self.sport, self.name, self.get_medal(\"gold\"))"
   ]
  },
  {
   "cell_type": "code",
   "execution_count": 30,
   "metadata": {},
   "outputs": [
    {
     "name": "stdout",
     "output_type": "stream",
     "text": [
      "gold medal\n",
      "배드민턴의 안세영 선수가 gold medal을 받았습니다\n"
     ]
    }
   ],
   "source": [
    "ann = Player(\"안세영\",\"배드민턴\")\n",
    "print(ann.get_medal(\"gold\"))\n",
    "print(ann)"
   ]
  },
  {
   "cell_type": "code",
   "execution_count": 31,
   "metadata": {},
   "outputs": [
    {
     "name": "stdout",
     "output_type": "stream",
     "text": [
      "높이뛰기의 우상혁 선수가 gold medal을 받았습니다\n"
     ]
    }
   ],
   "source": [
    "woo = Player('우상혁','높이뛰기')\n",
    "print(woo)"
   ]
  },
  {
   "cell_type": "code",
   "execution_count": 32,
   "metadata": {},
   "outputs": [],
   "source": [
    "class Note(object):\n",
    "    def __init__(self, contents):\n",
    "        self.contents = contents\n",
    "\n",
    "    def get_number_of_lines(self):\n",
    "        return self.contents.count(\"\\n\")\n",
    "\n",
    "    def get_number_of_characters(self):\n",
    "        return len(self.contents)\n",
    "\n",
    "    def remove(self):\n",
    "        self.contents = \"삭제된 노트입니다.\"\n",
    "\n",
    "    def __str__(self):\n",
    "        return self.contents"
   ]
  },
  {
   "cell_type": "code",
   "execution_count": 33,
   "metadata": {},
   "outputs": [],
   "source": [
    "class NoteBook(object):\n",
    "    def __init__(self, name):\n",
    "        self.name = name\n",
    "        self.pages = 0\n",
    "        self.notes = {}\n",
    "\n",
    "    def add_note(self, note, page_number=0):\n",
    "        if len(self.notes.keys()) < 300:\n",
    "            if page_number == 0:\n",
    "                if self.pages < 301:\n",
    "                    self.notes[self.pages] = note\n",
    "                    self.pages += 1\n",
    "                else:\n",
    "                    for i in range(300):\n",
    "                        if i not in list(self.notes.keys()):\n",
    "                            self.notes[self.pages] = note\n",
    "            else:\n",
    "                if page_number not in self.notes.keys():\n",
    "                    self.notes[page_number] = note\n",
    "                else:\n",
    "                    print(\"해당 페이지에는 이미 노트가 존재합니다.\")\n",
    "        else:\n",
    "            print(\"더 이상 노트를 추가하지 못합니다.\")\n",
    "\n",
    "    def remove_note(self, page_number):\n",
    "        del self.notes[page_number]\n",
    "\n",
    "    def get_number_of_all_lines(self):\n",
    "        result = 0\n",
    "        for k in self.notes.keys():\n",
    "            result += self.notes[k].get_number_of_lines()\n",
    "        return result\n",
    "\n",
    "    def get_number_of_all_characters(self):\n",
    "        result = 0\n",
    "        for k in self.notes.keys():\n",
    "            result += self.notes[k].get_number_of_characters()\n",
    "        return result\n",
    "\n",
    "    def get_number_of_all_pages(self):\n",
    "        return len(self.notes.keys())\n",
    "\n",
    "    def __str__(self):\n",
    "        return self.name"
   ]
  },
  {
   "cell_type": "code",
   "execution_count": 34,
   "metadata": {},
   "outputs": [],
   "source": [
    "class Person(object):                       # 부모 클래스 Person 선언\n",
    "    def __init__(self, name, age, gender):\n",
    "        self.name = name\n",
    "        self.age = age\n",
    "        self.gender = gender\n",
    "\n",
    "    def about_me(self):                     # 메서드 선언\n",
    "        print(\"저의 이름은\", self.name, \"이고요, 제 나이는\", str(self.age), \"살입니다.\")"
   ]
  },
  {
   "cell_type": "code",
   "execution_count": 35,
   "metadata": {},
   "outputs": [],
   "source": [
    "class Employee(Person):                                             # 부모 클래스 Person으로부터 상속\n",
    "    def __init__(self, name, age, gender, salary, hire_date):\n",
    "        super().__init__(name, age, gender)                         # 부모 객체 사용\n",
    "        self.salary = salary\n",
    "        self.hire_date = hire_date                                  # 속성값 추가\n",
    "\n",
    "    def do_work(self):                                              # 새로운 메서드 추가\n",
    "        print(\"열심히 일을 한다.\")\n",
    "\n",
    "    def about_me(self):                                             # 부모 클래스 함수 재정의\n",
    "        super().about_me()                                          # 부모 클래스 함수 사용\n",
    "        print(\"제 급여는\", self.salary, \"원이고, 제 입사일은\", self.hire_date, \"입니다.\")\n"
   ]
  },
  {
   "cell_type": "code",
   "execution_count": 36,
   "metadata": {},
   "outputs": [
    {
     "name": "stdout",
     "output_type": "stream",
     "text": [
      "Missy: Meow!\n",
      "Mr. Mistoffelees: Meow!\n",
      "Lassie: Woof! Woof!\n"
     ]
    }
   ],
   "source": [
    "class Animal:\n",
    "    def __init__(self, name):\n",
    "        self.name = name\n",
    "    def talk(self):\n",
    "        raise NotImplementedError(\"Subclass must implement abstract method\")\n",
    "\n",
    "class Cat(Animal):\n",
    "    def talk(self):\n",
    "        return 'Meow!'\n",
    "\n",
    "class Dog(Animal):\n",
    "    def talk(self):\n",
    "        return 'Woof! Woof!'\n",
    "\n",
    "animals = [Cat('Missy'), Cat('Mr. Mistoffelees'), Dog('Lassie')]\n",
    "for animal in animals:\n",
    "    print(animal.name + ': ' + animal.talk())"
   ]
  },
  {
   "cell_type": "code",
   "execution_count": 37,
   "metadata": {},
   "outputs": [
    {
     "name": "stdout",
     "output_type": "stream",
     "text": [
      "new item added\n",
      "new item added\n",
      "2\n",
      "<__main__.Dog object at 0x000002253253A750>\n"
     ]
    }
   ],
   "source": [
    "class Product(object):\n",
    "    pass\n",
    "\n",
    "class Inventory(object):\n",
    "    def __init__(self):\n",
    "        self.__items = []\n",
    "    #private -> public\n",
    "    @property\n",
    "    def items(self):\n",
    "        return self.__items\n",
    "    def add_new_item(self, product):\n",
    "        if type(product) == Product:\n",
    "            self.__items.append(product)\n",
    "            print(\"new item added\")\n",
    "        else:\n",
    "            raise ValueError(\"Invalid Item\")\n",
    "    def get_number_of_items(self):\n",
    "        return len(self.__items)\n",
    "\n",
    "my_inventory = Inventory()\n",
    "my_inventory.add_new_item(Product())\n",
    "my_inventory.add_new_item(Product())\n",
    "\n",
    "print(my_inventory.get_number_of_items())\n",
    "#my_inventory.__items\n",
    "\n",
    "items = my_inventory.items\n",
    "items.append(Dog('siba'))\n",
    "print(items.pop())"
   ]
  },
  {
   "cell_type": "markdown",
   "metadata": {},
   "source": [
    "- import 모듈이름 (예) import os\n",
    "- import 모듈이름 as 별칭 (예) import pandas as pd\n",
    "- from 모듈이름 import 모듈함수 (예) from os import listdir … 모듈이름을 앞에 붙이지 않고도 사용\n",
    "- from 모듈이름 import * (예) from mod1 import *"
   ]
  },
  {
   "cell_type": "code",
   "execution_count": 40,
   "metadata": {},
   "outputs": [
    {
     "name": "stdout",
     "output_type": "stream",
     "text": [
      "['__breakpointhook__', '__displayhook__', '__doc__', '__excepthook__', '__interactivehook__', '__loader__', '__name__', '__package__', '__spec__', '__stderr__', '__stdin__', '__stdout__', '__unraisablehook__', '_base_executable', '_clear_type_cache', '_current_exceptions', '_current_frames', '_debugmallocstats', '_enablelegacywindowsfsencoding', '_framework', '_getframe', '_getframemodulename', '_git', '_home', '_setprofileallthreads', '_settraceallthreads', '_stdlib_dir', '_vpath', '_xoptions', 'activate_stack_trampoline', 'addaudithook', 'api_version', 'argv', 'audit', 'base_exec_prefix', 'base_prefix', 'breakpointhook', 'builtin_module_names', 'byteorder', 'call_tracing', 'copyright', 'deactivate_stack_trampoline', 'displayhook', 'dllhandle', 'dont_write_bytecode', 'exc_info', 'excepthook', 'exception', 'exec_prefix', 'executable', 'exit', 'flags', 'float_info', 'float_repr_style', 'get_asyncgen_hooks', 'get_coroutine_origin_tracking_depth', 'get_int_max_str_digits', 'getallocatedblocks', 'getdefaultencoding', 'getfilesystemencodeerrors', 'getfilesystemencoding', 'getprofile', 'getrecursionlimit', 'getrefcount', 'getsizeof', 'getswitchinterval', 'gettrace', 'getunicodeinternedsize', 'getwindowsversion', 'hash_info', 'hexversion', 'implementation', 'int_info', 'intern', 'is_finalizing', 'is_stack_trampoline_active', 'last_traceback', 'last_type', 'last_value', 'maxsize', 'maxunicode', 'meta_path', 'modules', 'monitoring', 'orig_argv', 'path', 'path_hooks', 'path_importer_cache', 'platform', 'platlibdir', 'prefix', 'ps1', 'ps2', 'ps3', 'pycache_prefix', 'set_asyncgen_hooks', 'set_coroutine_origin_tracking_depth', 'set_int_max_str_digits', 'setprofile', 'setrecursionlimit', 'setswitchinterval', 'settrace', 'stderr', 'stdin', 'stdlib_module_names', 'stdout', 'thread_info', 'unraisablehook', 'version', 'version_info', 'warnoptions', 'winver']\n"
     ]
    }
   ],
   "source": [
    "import sys\n",
    "print(dir(sys))\n"
   ]
  },
  {
   "cell_type": "code",
   "execution_count": 39,
   "metadata": {},
   "outputs": [
    {
     "name": "stdout",
     "output_type": "stream",
     "text": [
      "['__doc__', '__loader__', '__name__', '__package__', '__spec__', 'acos', 'acosh', 'asin', 'asinh', 'atan', 'atan2', 'atanh', 'cbrt', 'ceil', 'comb', 'copysign', 'cos', 'cosh', 'degrees', 'dist', 'e', 'erf', 'erfc', 'exp', 'exp2', 'expm1', 'fabs', 'factorial', 'floor', 'fmod', 'frexp', 'fsum', 'gamma', 'gcd', 'hypot', 'inf', 'isclose', 'isfinite', 'isinf', 'isnan', 'isqrt', 'lcm', 'ldexp', 'lgamma', 'log', 'log10', 'log1p', 'log2', 'modf', 'nan', 'nextafter', 'perm', 'pi', 'pow', 'prod', 'radians', 'remainder', 'sin', 'sinh', 'sqrt', 'sumprod', 'tan', 'tanh', 'tau', 'trunc', 'ulp']\n"
     ]
    }
   ],
   "source": [
    "import math\n",
    "print(dir(math))"
   ]
  },
  {
   "cell_type": "code",
   "execution_count": 42,
   "metadata": {},
   "outputs": [
    {
     "name": "stdout",
     "output_type": "stream",
     "text": [
      "Help on built-in function sqrt in module math:\n",
      "\n",
      "sqrt(x, /)\n",
      "    Return the square root of x.\n",
      "\n"
     ]
    }
   ],
   "source": [
    "help(math.sqrt)"
   ]
  },
  {
   "cell_type": "code",
   "execution_count": 43,
   "metadata": {},
   "outputs": [
    {
     "data": {
      "text/plain": [
       "2.0"
      ]
     },
     "execution_count": 43,
     "metadata": {},
     "output_type": "execute_result"
    }
   ],
   "source": [
    "math.sqrt(4)"
   ]
  },
  {
   "cell_type": "code",
   "execution_count": null,
   "metadata": {},
   "outputs": [],
   "source": []
  }
 ],
 "metadata": {
  "kernelspec": {
   "display_name": "pcore",
   "language": "python",
   "name": "python3"
  },
  "language_info": {
   "codemirror_mode": {
    "name": "ipython",
    "version": 3
   },
   "file_extension": ".py",
   "mimetype": "text/x-python",
   "name": "python",
   "nbconvert_exporter": "python",
   "pygments_lexer": "ipython3",
   "version": "3.12.4"
  }
 },
 "nbformat": 4,
 "nbformat_minor": 2
}
