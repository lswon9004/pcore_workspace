{
 "cells": [
  {
   "cell_type": "code",
   "execution_count": 1,
   "metadata": {},
   "outputs": [
    {
     "name": "stdout",
     "output_type": "stream",
     "text": [
      "[1, 2, 3, 4]\n"
     ]
    }
   ],
   "source": [
    "list1 = [1,2,3,4]\n",
    "print(list1)"
   ]
  },
  {
   "cell_type": "code",
   "execution_count": 2,
   "metadata": {},
   "outputs": [
    {
     "name": "stdout",
     "output_type": "stream",
     "text": [
      "<map object at 0x000002252F467F70>\n"
     ]
    }
   ],
   "source": [
    "print(map(lambda x : x+1,[1,2,3]))"
   ]
  },
  {
   "cell_type": "code",
   "execution_count": 10,
   "metadata": {},
   "outputs": [],
   "source": [
    "class Player:\n",
    "    def __init__(self, name, sport):\n",
    "        self.name = name\n",
    "        self.sport = sport\n",
    "        \n",
    "    def get_medal(self, color='gold'):\n",
    "        return (\"%s medal\"% color) \n",
    "    def __str__(self):\n",
    "        return \"%s의 %s 선수가 %s을 받았습니다\"%(self.sport, self.name, self.get_medal(\"gold\"))"
   ]
  },
  {
   "cell_type": "code",
   "execution_count": 11,
   "metadata": {},
   "outputs": [
    {
     "name": "stdout",
     "output_type": "stream",
     "text": [
      "gold medal\n",
      "배드민턴의 안세영 선수가 gold medal을 받았습니다\n"
     ]
    }
   ],
   "source": [
    "ann = Player(\"안세영\",\"배드민턴\")\n",
    "print(ann.get_medal(\"gold\"))\n",
    "print(ann)"
   ]
  },
  {
   "cell_type": "code",
   "execution_count": 12,
   "metadata": {},
   "outputs": [
    {
     "name": "stdout",
     "output_type": "stream",
     "text": [
      "높이뛰기의 우상혁 선수가 gold medal을 받았습니다\n"
     ]
    }
   ],
   "source": [
    "woo = Player('우상혁','높이뛰기')\n",
    "print(woo)"
   ]
  },
  {
   "cell_type": "code",
   "execution_count": 15,
   "metadata": {},
   "outputs": [],
   "source": [
    "class Note(object):\n",
    "    def __init__(self, contents):\n",
    "        self.contents = contents\n",
    "\n",
    "    def get_number_of_lines(self):\n",
    "        return self.contents.count(\"\\n\")\n",
    "\n",
    "    def get_number_of_characters(self):\n",
    "        return len(self.contents)\n",
    "\n",
    "    def remove(self):\n",
    "        self.contents = \"삭제된 노트입니다.\"\n",
    "\n",
    "    def __str__(self):\n",
    "        return self.contents"
   ]
  },
  {
   "cell_type": "code",
   "execution_count": 16,
   "metadata": {},
   "outputs": [],
   "source": [
    "class NoteBook(object):\n",
    "    def __init__(self, name):\n",
    "        self.name = name\n",
    "        self.pages = 0\n",
    "        self.notes = {}\n",
    "\n",
    "    def add_note(self, note, page_number=0):\n",
    "        if len(self.notes.keys()) < 300:\n",
    "            if page_number == 0:\n",
    "                if self.pages < 301:\n",
    "                    self.notes[self.pages] = note\n",
    "                    self.pages += 1\n",
    "                else:\n",
    "                    for i in range(300):\n",
    "                        if i not in list(self.notes.keys()):\n",
    "                            self.notes[self.pages] = note\n",
    "            else:\n",
    "                if page_number not in self.notes.keys():\n",
    "                    self.notes[page_number] = note\n",
    "                else:\n",
    "                    print(\"해당 페이지에는 이미 노트가 존재합니다.\")\n",
    "        else:\n",
    "            print(\"더 이상 노트를 추가하지 못합니다.\")\n",
    "\n",
    "    def remove_note(self, page_number):\n",
    "        del self.notes[page_number]\n",
    "\n",
    "    def get_number_of_all_lines(self):\n",
    "        result = 0\n",
    "        for k in self.notes.keys():\n",
    "            result += self.notes[k].get_number_of_lines()\n",
    "        return result\n",
    "\n",
    "    def get_number_of_all_characters(self):\n",
    "        result = 0\n",
    "        for k in self.notes.keys():\n",
    "            result += self.notes[k].get_number_of_characters()\n",
    "        return result\n",
    "\n",
    "    def get_number_of_all_pages(self):\n",
    "        return len(self.notes.keys())\n",
    "\n",
    "    def __str__(self):\n",
    "        return self.name"
   ]
  },
  {
   "cell_type": "code",
   "execution_count": 17,
   "metadata": {},
   "outputs": [],
   "source": [
    "class Person(object):                       # 부모 클래스 Person 선언\n",
    "    def __init__(self, name, age, gender):\n",
    "        self.name = name\n",
    "        self.age = age\n",
    "        self.gender = gender\n",
    "\n",
    "    def about_me(self):                     # 메서드 선언\n",
    "        print(\"저의 이름은\", self.name, \"이고요, 제 나이는\", str(self.age), \"살입니다.\")"
   ]
  },
  {
   "cell_type": "code",
   "execution_count": 18,
   "metadata": {},
   "outputs": [],
   "source": [
    "class Employee(Person):                                             # 부모 클래스 Person으로부터 상속\n",
    "    def __init__(self, name, age, gender, salary, hire_date):\n",
    "        super().__init__(name, age, gender)                         # 부모 객체 사용\n",
    "        self.salary = salary\n",
    "        self.hire_date = hire_date                                  # 속성값 추가\n",
    "\n",
    "    def do_work(self):                                              # 새로운 메서드 추가\n",
    "        print(\"열심히 일을 한다.\")\n",
    "\n",
    "    def about_me(self):                                             # 부모 클래스 함수 재정의\n",
    "        super().about_me()                                          # 부모 클래스 함수 사용\n",
    "        print(\"제 급여는\", self.salary, \"원이고, 제 입사일은\", self.hire_date, \"입니다.\")\n"
   ]
  },
  {
   "cell_type": "code",
   "execution_count": 19,
   "metadata": {},
   "outputs": [
    {
     "name": "stdout",
     "output_type": "stream",
     "text": [
      "Missy: Meow!\n",
      "Mr. Mistoffelees: Meow!\n",
      "Lassie: Woof! Woof!\n"
     ]
    }
   ],
   "source": [
    "class Animal:\n",
    "    def __init__(self, name):\n",
    "        self.name = name\n",
    "    def talk(self):\n",
    "        raise NotImplementedError(\"Subclass must implement abstract method\")\n",
    "\n",
    "class Cat(Animal):\n",
    "    def talk(self):\n",
    "        return 'Meow!'\n",
    "\n",
    "class Dog(Animal):\n",
    "    def talk(self):\n",
    "        return 'Woof! Woof!'\n",
    "\n",
    "animals = [Cat('Missy'), Cat('Mr. Mistoffelees'), Dog('Lassie')]\n",
    "for animal in animals:\n",
    "    print(animal.name + ': ' + animal.talk())"
   ]
  },
  {
   "cell_type": "code",
   "execution_count": 25,
   "metadata": {},
   "outputs": [
    {
     "name": "stdout",
     "output_type": "stream",
     "text": [
      "new item added\n",
      "new item added\n",
      "2\n",
      "<__main__.Dog object at 0x00000225325381D0>\n"
     ]
    }
   ],
   "source": [
    "class Product(object):\n",
    "    pass\n",
    "\n",
    "class Inventory(object):\n",
    "    def __init__(self):\n",
    "        self.__items = []\n",
    "    #private -> public\n",
    "    @property\n",
    "    def items(self):\n",
    "        return self.__items\n",
    "    def add_new_item(self, product):\n",
    "        if type(product) == Product:\n",
    "            self.__items.append(product)\n",
    "            print(\"new item added\")\n",
    "        else:\n",
    "            raise ValueError(\"Invalid Item\")\n",
    "    def get_number_of_items(self):\n",
    "        return len(self.__items)\n",
    "\n",
    "my_inventory = Inventory()\n",
    "my_inventory.add_new_item(Product())\n",
    "my_inventory.add_new_item(Product())\n",
    "\n",
    "print(my_inventory.get_number_of_items())\n",
    "#my_inventory.__items\n",
    "\n",
    "items = my_inventory.items\n",
    "items.append(Dog('siba'))\n",
    "print(items.pop())"
   ]
  },
  {
   "cell_type": "markdown",
   "metadata": {},
   "source": [
    "- import 모듈이름 (예) import os\n",
    "- import 모듈이름 as 별칭 (예) import pandas as pd\n",
    "- from 모듈이름 import 모듈함수 (예) from os import listdir … 모듈이름을 앞에 붙이지 않고도 사용\n",
    "- from 모듈이름 import * (예) from mod1 import *"
   ]
  },
  {
   "cell_type": "code",
   "execution_count": null,
   "metadata": {},
   "outputs": [],
   "source": []
  }
 ],
 "metadata": {
  "kernelspec": {
   "display_name": "pcore",
   "language": "python",
   "name": "python3"
  },
  "language_info": {
   "codemirror_mode": {
    "name": "ipython",
    "version": 3
   },
   "file_extension": ".py",
   "mimetype": "text/x-python",
   "name": "python",
   "nbconvert_exporter": "python",
   "pygments_lexer": "ipython3",
   "version": "3.12.4"
  }
 },
 "nbformat": 4,
 "nbformat_minor": 2
}
